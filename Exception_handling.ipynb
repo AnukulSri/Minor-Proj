{
 "cells": [
  {
   "cell_type": "code",
   "execution_count": 9,
   "metadata": {},
   "outputs": [
    {
     "name": "stdout",
     "output_type": "stream",
     "text": [
      "0.5\n"
     ]
    },
    {
     "ename": "ZeroDivisionError",
     "evalue": "division by zero",
     "output_type": "error",
     "traceback": [
      "\u001b[1;31m---------------------------------------------------------------------------\u001b[0m",
      "\u001b[1;31mZeroDivisionError\u001b[0m                         Traceback (most recent call last)",
      "Cell \u001b[1;32mIn [9], line 5\u001b[0m\n\u001b[0;32m      3\u001b[0m c \u001b[39m=\u001b[39m a\u001b[39m/\u001b[39m(a\u001b[39m+\u001b[39mb)\n\u001b[0;32m      4\u001b[0m \u001b[39mprint\u001b[39m(c) \n\u001b[1;32m----> 5\u001b[0m d \u001b[39m=\u001b[39m a\u001b[39m/\u001b[39;49m(a\u001b[39m-\u001b[39;49mb)\n\u001b[0;32m      6\u001b[0m \u001b[39mprint\u001b[39m(d)\n",
      "\u001b[1;31mZeroDivisionError\u001b[0m: division by zero"
     ]
    }
   ],
   "source": [
    "a =10\n",
    "b= 10\n",
    "c = a/(a+b)\n",
    "print(c) \n",
    "d = a/(a-b)\n",
    "print(d)\n"
   ]
  },
  {
   "cell_type": "code",
   "execution_count": 8,
   "metadata": {},
   "outputs": [
    {
     "ename": "ZeroDivisionError",
     "evalue": "division by zero",
     "output_type": "error",
     "traceback": [
      "\u001b[1;31m---------------------------------------------------------------------------\u001b[0m",
      "\u001b[1;31mZeroDivisionError\u001b[0m                         Traceback (most recent call last)",
      "Cell \u001b[1;32mIn [8], line 3\u001b[0m\n\u001b[0;32m      1\u001b[0m a \u001b[39m=\u001b[39m\u001b[39m10\u001b[39m\n\u001b[0;32m      2\u001b[0m b\u001b[39m=\u001b[39m \u001b[39m10\u001b[39m\n\u001b[1;32m----> 3\u001b[0m c \u001b[39m=\u001b[39m a\u001b[39m/\u001b[39;49m(a\u001b[39m-\u001b[39;49mb)\n\u001b[0;32m      4\u001b[0m \u001b[39mprint\u001b[39m(c)\n\u001b[0;32m      5\u001b[0m d \u001b[39m=\u001b[39m a\u001b[39m/\u001b[39m(a\u001b[39m+\u001b[39mb)\n",
      "\u001b[1;31mZeroDivisionError\u001b[0m: division by zero"
     ]
    }
   ],
   "source": [
    "a =10\n",
    "b= 10\n",
    "c = a/(a-b)\n",
    "print(c)\n",
    "d = a/(a+b)\n",
    "print(d)\n"
   ]
  },
  {
   "cell_type": "code",
   "execution_count": 33,
   "metadata": {},
   "outputs": [
    {
     "name": "stdout",
     "output_type": "stream",
     "text": [
      "0.5\n",
      "Not divisible by 0\n"
     ]
    }
   ],
   "source": [
    "a =10\n",
    "b= 10\n",
    "c = a/(a+b)\n",
    "print(c)\n",
    "try : \n",
    " d = a/(a-b)\n",
    " print(d)\n",
    "except :\n",
    "    print(\"Not divisible by 0\")"
   ]
  },
  {
   "cell_type": "code",
   "execution_count": 12,
   "metadata": {},
   "outputs": [
    {
     "name": "stdout",
     "output_type": "stream",
     "text": [
      "0.5\n",
      "Not divisible by 0\n",
      "0.5\n"
     ]
    }
   ],
   "source": [
    "a =10\n",
    "b= 10\n",
    "c = a/(a+b)\n",
    "print(c)\n",
    "try : \n",
    " d = a/(a-b)\n",
    " print(d)\n",
    "except :\n",
    "    print(\"Not divisible by 0\")\n",
    "d = a/(a+b)\n",
    "print(d)"
   ]
  },
  {
   "cell_type": "code",
   "execution_count": 14,
   "metadata": {},
   "outputs": [
    {
     "ename": "NameError",
     "evalue": "name 'x' is not defined",
     "output_type": "error",
     "traceback": [
      "\u001b[1;31m---------------------------------------------------------------------------\u001b[0m",
      "\u001b[1;31mNameError\u001b[0m                                 Traceback (most recent call last)",
      "Cell \u001b[1;32mIn [14], line 5\u001b[0m\n\u001b[0;32m      1\u001b[0m \u001b[39m\"\"\"try :\u001b[39;00m\n\u001b[0;32m      2\u001b[0m \u001b[39m    print(x)\u001b[39;00m\n\u001b[0;32m      3\u001b[0m \u001b[39mexcept:\u001b[39;00m\n\u001b[0;32m      4\u001b[0m \u001b[39m    print(\"Enter a number\")\"\"\"\u001b[39;00m\n\u001b[1;32m----> 5\u001b[0m x\n\u001b[0;32m      6\u001b[0m \u001b[39mprint\u001b[39m(x)\n",
      "\u001b[1;31mNameError\u001b[0m: name 'x' is not defined"
     ]
    }
   ],
   "source": [
    "\"\"\"try :\n",
    "    print(x)\n",
    "except:\n",
    "    print(\"Enter a number\")\"\"\"\n",
    "x\n",
    "print(x)"
   ]
  },
  {
   "cell_type": "code",
   "execution_count": 16,
   "metadata": {},
   "outputs": [
    {
     "name": "stdout",
     "output_type": "stream",
     "text": [
      "0 4\n",
      "1 4.73\n",
      "2 Anukul\n",
      "3 India\n"
     ]
    },
    {
     "ename": "IndexError",
     "evalue": "list index out of range",
     "output_type": "error",
     "traceback": [
      "\u001b[1;31m---------------------------------------------------------------------------\u001b[0m",
      "\u001b[1;31mIndexError\u001b[0m                                Traceback (most recent call last)",
      "Cell \u001b[1;32mIn [16], line 3\u001b[0m\n\u001b[0;32m      1\u001b[0m a\u001b[39m=\u001b[39m [\u001b[39m4\u001b[39m,\u001b[39m4.73\u001b[39m,\u001b[39m\"\u001b[39m\u001b[39mAnukul\u001b[39m\u001b[39m\"\u001b[39m,\u001b[39m\"\u001b[39m\u001b[39mIndia\u001b[39m\u001b[39m\"\u001b[39m]\n\u001b[0;32m      2\u001b[0m \u001b[39mfor\u001b[39;00m i \u001b[39min\u001b[39;00m \u001b[39mrange\u001b[39m(\u001b[39m5\u001b[39m):\n\u001b[1;32m----> 3\u001b[0m     \u001b[39mprint\u001b[39m(i,a[i])\n",
      "\u001b[1;31mIndexError\u001b[0m: list index out of range"
     ]
    }
   ],
   "source": [
    "a= [4,4.73,\"Anukul\",\"India\"]\n",
    "for i in range(5):\n",
    "    print(i,a[i])"
   ]
  },
  {
   "cell_type": "code",
   "execution_count": 22,
   "metadata": {},
   "outputs": [
    {
     "name": "stdout",
     "output_type": "stream",
     "text": [
      "0 4\n",
      "1 4.73\n",
      "2 Anukul\n",
      "3 India\n",
      "Index Error occured\n"
     ]
    }
   ],
   "source": [
    "a= [4,4.73,\"Anukul\",\"India\"]\n",
    "try : \n",
    " for i in range(5):\n",
    "    print(i,a[i])\n",
    "except:\n",
    "    print(\"Index Error occured\")"
   ]
  },
  {
   "cell_type": "code",
   "execution_count": 27,
   "metadata": {},
   "outputs": [
    {
     "name": "stdout",
     "output_type": "stream",
     "text": [
      "Welcome to vote\n"
     ]
    }
   ],
   "source": [
    "a= int (input(\"Enter your age\"))\n",
    "if a<18:\n",
    "    raise Exception(\"Not for vote\")\n",
    "else : \n",
    "    print(\"Welcome to vote\")"
   ]
  },
  {
   "cell_type": "code",
   "execution_count": 28,
   "metadata": {},
   "outputs": [
    {
     "name": "stdout",
     "output_type": "stream",
     "text": [
      "0 4\n",
      "1 4.73\n",
      "2 Anukul\n",
      "3 India\n",
      "Index Error occured\n",
      "Operation done\n"
     ]
    }
   ],
   "source": [
    "# finally keyword\n",
    "\n",
    "a= [4,4.73,\"Anukul\",\"India\"]\n",
    "try : \n",
    " for i in range(5):\n",
    "    print(i,a[i])\n",
    "except:\n",
    "    print(\"Index Error occured\")\n",
    "finally : \n",
    "    print(\"Operation done\")"
   ]
  },
  {
   "cell_type": "code",
   "execution_count": 30,
   "metadata": {},
   "outputs": [
    {
     "name": "stdout",
     "output_type": "stream",
     "text": [
      "0 4\n",
      "1 4.73\n",
      "2 Anukul\n",
      "3 India\n",
      "Error not solved\n"
     ]
    }
   ],
   "source": [
    "# else keyword\n",
    "\n",
    "a= [4,4.73,\"Anukul\",\"India\"]\n",
    "try : \n",
    " for i in range(4):\n",
    "    print(i,a[i])\n",
    "except:\n",
    "    print(\"Index Error occured\")\n",
    "else:\n",
    "    print(\"Error not solved\")"
   ]
  },
  {
   "cell_type": "code",
   "execution_count": 32,
   "metadata": {},
   "outputs": [
    {
     "name": "stdout",
     "output_type": "stream",
     "text": [
      "0.1\n"
     ]
    }
   ],
   "source": [
    "n= int(input(\"Enter a number\"))\n",
    "def disp(num):\n",
    "    try : \n",
    "        rs = 1/num\n",
    "    except:\n",
    "        print(\"Division buy zero error\")\n",
    "    else : \n",
    "        print(rs)\n",
    "disp(n)"
   ]
  }
 ],
 "metadata": {
  "kernelspec": {
   "display_name": "Python 3.9.12 ('base')",
   "language": "python",
   "name": "python3"
  },
  "language_info": {
   "codemirror_mode": {
    "name": "ipython",
    "version": 3
   },
   "file_extension": ".py",
   "mimetype": "text/x-python",
   "name": "python",
   "nbconvert_exporter": "python",
   "pygments_lexer": "ipython3",
   "version": "3.9.12"
  },
  "orig_nbformat": 4,
  "vscode": {
   "interpreter": {
    "hash": "4e8f3a7a02010f64316f648f42951c185bd81b36418d82413abe5bcaf48078d2"
   }
  }
 },
 "nbformat": 4,
 "nbformat_minor": 2
}

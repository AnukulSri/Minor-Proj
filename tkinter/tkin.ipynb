{
 "cells": [
  {
   "cell_type": "code",
   "execution_count": 1,
   "metadata": {},
   "outputs": [],
   "source": [
    "import tkinter\n",
    "top = tkinter.Tk()\n",
    "\n",
    "top.mainloop()\n"
   ]
  },
  {
   "cell_type": "code",
   "execution_count": 2,
   "metadata": {},
   "outputs": [],
   "source": [
    "from tkinter import *\n",
    "\n",
    "def printSomething():\n",
    "    # if you want the button to disappear:\n",
    "    # button.destroy() or button.pack_forget()\n",
    "    label = Label(root, text= \"Hey whatsup bro, i am doing something very interresting.\")\n",
    "    #this creates a new label to the GUI\n",
    "    label.pack() \n",
    "\n",
    "root = Tk()\n",
    "\n",
    "button = Button(root, text=\"Print Me\", command=printSomething) \n",
    "button.pack()\n",
    "\n",
    "root.mainloop()"
   ]
  },
  {
   "cell_type": "code",
   "execution_count": 4,
   "metadata": {},
   "outputs": [],
   "source": [
    "import tkinter\n",
    "win= tkinter.Tk()\n",
    "label = tkinter.Label(win,text=\"hello students....................................\").grid()# grid is to print the data from left side of the screen\n",
    "win.mainloop() "
   ]
  },
  {
   "cell_type": "code",
   "execution_count": 8,
   "metadata": {},
   "outputs": [],
   "source": [
    "import tkinter\n",
    "win= tkinter.Tk()\n",
    "label = tkinter.Label(win,text=\"hello students....................................\",font=(\"Arial Bold\",30)).pack() # pack is to print the data in center\n",
    "win.mainloop() \n"
   ]
  }
 ],
 "metadata": {
  "kernelspec": {
   "display_name": "base",
   "language": "python",
   "name": "python3"
  },
  "language_info": {
   "codemirror_mode": {
    "name": "ipython",
    "version": 3
   },
   "file_extension": ".py",
   "mimetype": "text/x-python",
   "name": "python",
   "nbconvert_exporter": "python",
   "pygments_lexer": "ipython3",
   "version": "3.9.12 (main, Apr  4 2022, 05:22:27) [MSC v.1916 64 bit (AMD64)]"
  },
  "orig_nbformat": 4,
  "vscode": {
   "interpreter": {
    "hash": "4e8f3a7a02010f64316f648f42951c185bd81b36418d82413abe5bcaf48078d2"
   }
  }
 },
 "nbformat": 4,
 "nbformat_minor": 2
}

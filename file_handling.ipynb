{
 "cells": [
  {
   "cell_type": "code",
   "execution_count": 1,
   "metadata": {},
   "outputs": [
    {
     "name": "stdout",
     "output_type": "stream",
     "text": [
      "import calculator\n",
      "import mod_sam\n",
      "from mod_sam import disp2 as greet\n",
      "a= int(input(\"Enter a number\"))\n",
      "b= int(input(\"Enter a number\"))\n",
      "calculator.cal(a,b)\n",
      "mod_sam.disp()\n",
      "greet()\n"
     ]
    }
   ],
   "source": [
    "f= open('calcu.py')\n",
    "c= f.read()\n",
    "print(c)\n",
    "f.close()"
   ]
  },
  {
   "cell_type": "markdown",
   "metadata": {},
   "source": []
  },
  {
   "cell_type": "code",
   "execution_count": 25,
   "metadata": {},
   "outputs": [
    {
     "name": "stdout",
     "output_type": "stream",
     "text": [
      "\n"
     ]
    }
   ],
   "source": [
    "file_1 = open(\"C:\\\\Users\\\\anuku\\\\OneDrive\\\\Desktop\\\\Minor Proj\\\\cacu.py\")\n",
    "c= file_1.read()\n",
    "print(c)\n",
    "file_1.close()"
   ]
  },
  {
   "cell_type": "markdown",
   "metadata": {},
   "source": [
    "# for creating a blank file...."
   ]
  },
  {
   "cell_type": "code",
   "execution_count": 8,
   "metadata": {},
   "outputs": [],
   "source": [
    "create = open(\"creating.txt\",'x')"
   ]
  },
  {
   "cell_type": "markdown",
   "metadata": {},
   "source": [
    "# writing a text in a file"
   ]
  },
  {
   "cell_type": "code",
   "execution_count": 88,
   "metadata": {},
   "outputs": [
    {
     "name": "stdout",
     "output_type": "stream",
     "text": [
      "Data printed Successfully\n"
     ]
    }
   ],
   "source": [
    "file_1 = open('writing.txt','w')\n",
    "d = file_1.write(\"Printing the message from file handling..Now tell how its happen \\n\")\n",
    "file_1.write(\"Another data added to this file\")\n",
    "print(\"Data printed Successfully\")"
   ]
  },
  {
   "cell_type": "code",
   "execution_count": 38,
   "metadata": {},
   "outputs": [
    {
     "name": "stdout",
     "output_type": "stream",
     "text": [
      "success\n"
     ]
    }
   ],
   "source": [
    "cs = open(\"C:\\\\Users\\\\anuku\\\\OneDrive\\\\Desktop\\\\Minor Proj\\\\cacu.py\")\n",
    "print(\"success\")"
   ]
  },
  {
   "cell_type": "code",
   "execution_count": 105,
   "metadata": {},
   "outputs": [
    {
     "name": "stdout",
     "output_type": "stream",
     "text": [
      "import calculator\n",
      "import mod_sam\n",
      "from mod_sam import disp2 as greet\n",
      "a= int(input(\"Enter a number\"))\n",
      "b= int(input(\"Enter a number\"))\n",
      "calculator.cal(a,b)\n",
      "mod_sam.disp()\n",
      "greet()\n"
     ]
    }
   ],
   "source": [
    "cs = open(\"C:\\\\Users\\\\anuku\\\\OneDrive\\\\Desktop\\\\Minor Proj\\\\calcu.py\",\"r\")\n",
    "print(cs.read())"
   ]
  },
  {
   "cell_type": "markdown",
   "metadata": {},
   "source": [
    "# reading a specific character from a file...."
   ]
  },
  {
   "cell_type": "code",
   "execution_count": 9,
   "metadata": {},
   "outputs": [
    {
     "name": "stdout",
     "output_type": "stream",
     "text": [
      "import calculator\n",
      "\n"
     ]
    }
   ],
   "source": [
    "cs = open(\"C:\\\\Users\\\\anuku\\\\OneDrive\\\\Desktop\\\\Minor Proj\\\\calcu.py\",\"r\")\n",
    "print(cs.readline(20))"
   ]
  },
  {
   "cell_type": "code",
   "execution_count": 10,
   "metadata": {},
   "outputs": [
    {
     "name": "stdout",
     "output_type": "stream",
     "text": [
      "['python - Sentiment analysis\\n']\n"
     ]
    }
   ],
   "source": [
    "cs = open('C:\\\\Users\\\\anuku\\\\OneDrive\\\\Desktop\\\\data science project.txt','r')\n",
    "d = cs.readlines(3)\n",
    "print(d)"
   ]
  },
  {
   "cell_type": "markdown",
   "metadata": {},
   "source": [
    "# copying data from file to another"
   ]
  },
  {
   "cell_type": "code",
   "execution_count": 20,
   "metadata": {},
   "outputs": [],
   "source": [
    "create = open(\"write2.txt\",'x')"
   ]
  },
  {
   "cell_type": "code",
   "execution_count": 21,
   "metadata": {},
   "outputs": [
    {
     "name": "stdout",
     "output_type": "stream",
     "text": [
      "data is copying\n",
      "Data copied\n"
     ]
    }
   ],
   "source": [
    "try:\n",
    "    with open('writing.txt') as f1:\n",
    "        with open ('write2.txt',\"w\") as f2:\n",
    "            for i in f1:\n",
    "                f2.write(i)\n",
    "    print(\"data is copying\")\n",
    "except :\n",
    "    print(\"File does not exist\")\n",
    "else : \n",
    "    print(\"Data copied\")"
   ]
  },
  {
   "cell_type": "markdown",
   "metadata": {},
   "source": [
    "- this will show not print the data from first file to another because second file is not writeable"
   ]
  },
  {
   "cell_type": "code",
   "execution_count": 2,
   "metadata": {},
   "outputs": [
    {
     "ename": "UnsupportedOperation",
     "evalue": "not writable",
     "output_type": "error",
     "traceback": [
      "\u001b[1;31m---------------------------------------------------------------------------\u001b[0m",
      "\u001b[1;31mUnsupportedOperation\u001b[0m                      Traceback (most recent call last)",
      "Cell \u001b[1;32mIn [2], line 4\u001b[0m\n\u001b[0;32m      2\u001b[0m \u001b[39mwith\u001b[39;00m \u001b[39mopen\u001b[39m (\u001b[39m'\u001b[39m\u001b[39mwrite2.txt\u001b[39m\u001b[39m'\u001b[39m) \u001b[39mas\u001b[39;00m f2:\n\u001b[0;32m      3\u001b[0m     \u001b[39mfor\u001b[39;00m i \u001b[39min\u001b[39;00m f1:\n\u001b[1;32m----> 4\u001b[0m         f2\u001b[39m.\u001b[39;49mwrite(i)\n",
      "\u001b[1;31mUnsupportedOperation\u001b[0m: not writable"
     ]
    }
   ],
   "source": [
    "with open('writing.txt') as f1:\n",
    "        with open ('write2.txt') as f2:\n",
    "            for i in f1:\n",
    "                f2.write(i)"
   ]
  },
  {
   "cell_type": "markdown",
   "metadata": {},
   "source": [
    "- this will show not print the data from first file to another because second file is not writeable"
   ]
  },
  {
   "cell_type": "code",
   "execution_count": 19,
   "metadata": {},
   "outputs": [
    {
     "name": "stdout",
     "output_type": "stream",
     "text": [
      "File does not exist\n"
     ]
    }
   ],
   "source": [
    "try:\n",
    "    with open('writing.txt') as f1:\n",
    "        with open ('write2.txt') as f2:\n",
    "            for i in f1:\n",
    "                f2.write(i)\n",
    "    print(\"data is copying\")\n",
    "except :\n",
    "    print(\"File does not exist\")\n",
    "else : \n",
    "    print(\"Data copied\")\n"
   ]
  },
  {
   "cell_type": "code",
   "execution_count": 127,
   "metadata": {},
   "outputs": [
    {
     "name": "stdout",
     "output_type": "stream",
     "text": [
      "For loop in C++\n",
      "\n",
      "\n",
      "\n",
      "It is an entry control loop which provides a more concise structure. Basically this loop is used when we know the starting and ending point.\n",
      "\n",
      "For Statement is further dived into three expression and these three are separated by semicolon (;):\n",
      "\n",
      "i) initilization expression is used to initialize variables.\n",
      "ii) test expression is responsible of continuing the loop. If it is true, then the program control flow goes inside the loop and executes the block of statements associated with it .If test expression is false loop terminates.\n",
      "iii) increment/decrement expression consists of increment or decrement operator This process continues until test condition satisfies.\n",
      "\n",
      "Syntax:\n",
      "\n",
      "for (initialization;condition;increment/decrement)\n",
      "{\n",
      "Statements;\n",
      "}\n",
      "\n",
      "Program 1.1 :\n",
      "\n",
      "# include<iostream.h>\n",
      "void main()\n",
      "{\n",
      "int i,sum=0,n;\n",
      "cout<<”Enter a number”;\n",
      "cin>>n;\n",
      "for (i=1;i<=n;i++)\n",
      "{\n",
      "sum = sum+I;\n",
      "}\n",
      "cout<<sum;\n",
      "}\n",
      "\n",
      "Output :\n",
      "\n",
      "15\n",
      "\n",
      "Nested for loop : Writing one loop control statement within another loop control statement is called nested loop statement.\n",
      "\n",
      "Syntax :\n",
      "\n",
      "for (i=1;i<n;i++)\n",
      "{\n",
      "for (j =1;j<I;j++)\n",
      "{\n",
      "statement\n",
      "}\n",
      "}\n",
      "\n",
      "Program 1.2 : \n",
      "\n",
      "# include<iostream.h>\n",
      "void main ()\n",
      "{\n",
      "int n, i, fact,j;\n",
      "cout<<”Enter a number”;\n",
      "cin>>n;\n",
      "for (i = 1; i<=n; i++)\n",
      "{\n",
      "fact = 0;\n",
      "for (j = 1; j<=i; j++)\n",
      "{\n",
      "if(i%j == 0)\n",
      "fact ++;\n",
      "}\n",
      "if (fact == 2)\n",
      "cout<<i<<”\\t”;\n",
      "}\n",
      "}\n",
      "\n",
      "Output : \n",
      "\n",
      "Enter the number 5\n",
      "2 3 5\n"
     ]
    }
   ],
   "source": [
    "import docx2txt\n",
    "f = docx2txt.process(\"C:\\\\Users\\\\anuku\\\\OneDrive\\\\Desktop\\\\For loop in Cpp.docx\")\n",
    "print(f)"
   ]
  },
  {
   "cell_type": "code",
   "execution_count": 125,
   "metadata": {},
   "outputs": [
    {
     "name": "stdout",
     "output_type": "stream",
     "text": [
      "print(\"Welcome to Python Programming\")\n",
      "print(10+20)\n",
      "print(\"2+2\")\n",
      "\n",
      "a= 10\n",
      "b= 10\n",
      "print(type(a)) # this is to print the type of variable\n",
      "print(id(a)) # this is to print the address of a variable\n",
      "\n",
      "print(type(a))\n",
      "print(id(b))\n",
      "\n",
      "a,b,c = 10,\"Python\",2.5\n",
      "\n",
      "print(a,b,c)\n"
     ]
    }
   ],
   "source": [
    "with open ('first.py','r') as p:\n",
    "    print(p.read())"
   ]
  },
  {
   "cell_type": "code",
   "execution_count": 12,
   "metadata": {},
   "outputs": [],
   "source": [
    "with open(\"write2.txt\",'a') as w2:\n",
    "    w2.write(\"\\nwriting the content in 2 file by using append mode\")\n"
   ]
  },
  {
   "cell_type": "markdown",
   "metadata": {},
   "source": [
    "# to remove a file "
   ]
  },
  {
   "cell_type": "code",
   "execution_count": 18,
   "metadata": {},
   "outputs": [
    {
     "name": "stdout",
     "output_type": "stream",
     "text": [
      "file removed\n"
     ]
    }
   ],
   "source": [
    "import os\n",
    "if os.path.exists(\"C:\\\\Users\\\\anuku\\\\OneDrive\\\\Desktop\\\\Minor Proj\\\\write2.txt\"):\n",
    "    os.remove(\"C:\\\\Users\\\\anuku\\\\OneDrive\\\\Desktop\\\\Minor Proj\\\\write2.txt\")\n",
    "    print(\"file removed\")\n",
    "else:\n",
    "    print(\"file not found\")"
   ]
  },
  {
   "cell_type": "code",
   "execution_count": null,
   "metadata": {},
   "outputs": [],
   "source": []
  }
 ],
 "metadata": {
  "kernelspec": {
   "display_name": "Python 3.9.12 ('base')",
   "language": "python",
   "name": "python3"
  },
  "language_info": {
   "codemirror_mode": {
    "name": "ipython",
    "version": 3
   },
   "file_extension": ".py",
   "mimetype": "text/x-python",
   "name": "python",
   "nbconvert_exporter": "python",
   "pygments_lexer": "ipython3",
   "version": "3.9.12"
  },
  "orig_nbformat": 4,
  "vscode": {
   "interpreter": {
    "hash": "4e8f3a7a02010f64316f648f42951c185bd81b36418d82413abe5bcaf48078d2"
   }
  }
 },
 "nbformat": 4,
 "nbformat_minor": 2
}

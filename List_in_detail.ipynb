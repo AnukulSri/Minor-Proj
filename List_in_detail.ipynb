{
 "cells": [
  {
   "cell_type": "code",
   "execution_count": 7,
   "metadata": {},
   "outputs": [
    {
     "name": "stdout",
     "output_type": "stream",
     "text": [
      "[7, 11, 98.3, 'India', False, 10]\n",
      "[15, 19, 81.74, 'Knp', 'students']\n",
      "<class 'list'>\n",
      "<class 'list'>\n"
     ]
    }
   ],
   "source": [
    "l = [7,11,98.3,'India',False,10]\n",
    "l2 = list((15,19,81.74,\"Knp\",'students'))\n",
    "print(l)\n",
    "print(l2)\n",
    "print(type(l))\n",
    "print(type(l2))"
   ]
  },
  {
   "cell_type": "code",
   "execution_count": 11,
   "metadata": {},
   "outputs": [
    {
     "name": "stdout",
     "output_type": "stream",
     "text": [
      "98.3\n",
      "[19, 81.74, 'Knp']\n",
      "[]\n"
     ]
    }
   ],
   "source": [
    "l = [7,11,98.3,'India',False,10]\n",
    "l2 = list((15,19,81.74,\"Knp\",'students'))\n",
    "print(l[2])\n",
    "print(l2[1:4])"
   ]
  },
  {
   "cell_type": "code",
   "execution_count": 3,
   "metadata": {},
   "outputs": [
    {
     "name": "stdout",
     "output_type": "stream",
     "text": [
      "3\n",
      "0\n",
      "6\n",
      "9\n"
     ]
    }
   ],
   "source": [
    "l = [7,11,98.3,'India',False,10,7,3,5,7]\n",
    "print(l.count(7))\n",
    "print(l.index(7))\n",
    "print(l.index(7,1)) # this will print the last occurence\n",
    "print(l.index(7,-1)) # this will print the last occurence\n"
   ]
  },
  {
   "cell_type": "code",
   "execution_count": 4,
   "metadata": {},
   "outputs": [
    {
     "name": "stdout",
     "output_type": "stream",
     "text": [
      "[7, 11, 98.3, 'India', False, 10, 7, 3, 5, 7]\n"
     ]
    }
   ],
   "source": [
    "l3=l.copy()\n",
    "print(l3)"
   ]
  },
  {
   "cell_type": "code",
   "execution_count": 14,
   "metadata": {},
   "outputs": [
    {
     "name": "stdout",
     "output_type": "stream",
     "text": [
      "[7, 5, 3, 7, 10, False, 'India', 98.3, 11, 7]\n"
     ]
    }
   ],
   "source": [
    "l3.reverse()\n",
    "#print(l3)\n",
    "a = l3[::-1]\n",
    "print(str(a))"
   ]
  },
  {
   "cell_type": "code",
   "execution_count": 19,
   "metadata": {},
   "outputs": [
    {
     "name": "stdout",
     "output_type": "stream",
     "text": [
      "Never Judge A Person \n"
     ]
    }
   ],
   "source": [
    "l = [\"Never\",\"Judge\",\"A\",\"Person\"]\n",
    "s = \"\"\n",
    "for i in l:\n",
    "    s += i +\" \"\n",
    "print(s)"
   ]
  },
  {
   "cell_type": "code",
   "execution_count": 28,
   "metadata": {},
   "outputs": [
    {
     "name": "stdout",
     "output_type": "stream",
     "text": [
      "['Never', 'Judge', 'A', 'Person', 1, 1, 1]\n"
     ]
    }
   ],
   "source": [
    "l.append(1)\n",
    "print(l)"
   ]
  },
  {
   "cell_type": "code",
   "execution_count": 30,
   "metadata": {},
   "outputs": [
    {
     "name": "stdout",
     "output_type": "stream",
     "text": [
      "['Never', 'Judge', 'A', 'Person', 1]\n"
     ]
    }
   ],
   "source": [
    "l.remove(1)\n",
    "print(l)"
   ]
  },
  {
   "cell_type": "code",
   "execution_count": 31,
   "metadata": {},
   "outputs": [
    {
     "name": "stdout",
     "output_type": "stream",
     "text": [
      "['HII', 'Never', 'Judge', 'A', 'Person', 1]\n"
     ]
    }
   ],
   "source": [
    "l.insert(0,\"HII\")\n",
    "print(l)"
   ]
  },
  {
   "cell_type": "code",
   "execution_count": 33,
   "metadata": {},
   "outputs": [
    {
     "name": "stdout",
     "output_type": "stream",
     "text": [
      "['HII', 'Never', 'Judge', 'A']\n"
     ]
    }
   ],
   "source": [
    "l.pop()\n",
    "print(l)"
   ]
  },
  {
   "cell_type": "code",
   "execution_count": 34,
   "metadata": {},
   "outputs": [
    {
     "name": "stdout",
     "output_type": "stream",
     "text": [
      "None\n"
     ]
    }
   ],
   "source": [
    "print(l.clear())"
   ]
  },
  {
   "cell_type": "code",
   "execution_count": 38,
   "metadata": {},
   "outputs": [
    {
     "name": "stdout",
     "output_type": "stream",
     "text": [
      "[1, 4, 7, 'Hello', 'World', 9.86]\n",
      "[1, 4, 7, 'Hello', 'World', 9.86]\n"
     ]
    }
   ],
   "source": [
    "var = [1,4,7,\"Hello\",\"World\",9.86]\n",
    "var2 = []\n",
    "var2 = var.copy()\n",
    "print(var2)\n",
    "print(var)"
   ]
  },
  {
   "cell_type": "code",
   "execution_count": 43,
   "metadata": {},
   "outputs": [
    {
     "name": "stdout",
     "output_type": "stream",
     "text": [
      "[1, 4, 7, 'Hello', 'World', 9.86]\n"
     ]
    }
   ],
   "source": [
    "var = [1,4,7,\"Hello\",\"World\",9.86]\n",
    "var2 = []\n",
    "for i in var:\n",
    "    var2.append(i)\n",
    "print(var2)"
   ]
  },
  {
   "cell_type": "code",
   "execution_count": 40,
   "metadata": {},
   "outputs": [
    {
     "name": "stdout",
     "output_type": "stream",
     "text": [
      "[1, 4, 7, 'Hello', 'World', 9.86]\n"
     ]
    }
   ],
   "source": [
    "var = [1,4,7,\"Hello\",\"World\",9.86]\n",
    "var2 = var[:]\n",
    "print(var2)"
   ]
  },
  {
   "cell_type": "code",
   "execution_count": 56,
   "metadata": {},
   "outputs": [
    {
     "name": "stdout",
     "output_type": "stream",
     "text": [
      "None\n",
      "[1, 4, 5, 6, 7, 8, 43]\n"
     ]
    }
   ],
   "source": [
    "var = [1,4,7,5,43,6,8]\n",
    "var.sort()\n",
    "print(var)"
   ]
  },
  {
   "cell_type": "code",
   "execution_count": 57,
   "metadata": {},
   "outputs": [
    {
     "name": "stdout",
     "output_type": "stream",
     "text": [
      "[43, 8, 7, 6, 5, 4, 1]\n"
     ]
    }
   ],
   "source": [
    "var.sort(reverse=True)\n",
    "print(var)"
   ]
  },
  {
   "cell_type": "code",
   "execution_count": 59,
   "metadata": {},
   "outputs": [
    {
     "name": "stdout",
     "output_type": "stream",
     "text": [
      "Lko\n",
      "knp\n"
     ]
    }
   ],
   "source": [
    "var= [\"Lko\",\"knp\"]\n",
    "n1,n2 = var\n",
    "print(n1)\n",
    "print(n2)\n"
   ]
  },
  {
   "cell_type": "markdown",
   "metadata": {},
   "source": [
    "nested list"
   ]
  },
  {
   "cell_type": "code",
   "execution_count": 60,
   "metadata": {},
   "outputs": [
    {
     "name": "stdout",
     "output_type": "stream",
     "text": [
      "['Lko', 'knp', [1, 2, 3], [3, 4, 5]]\n"
     ]
    }
   ],
   "source": [
    "var= [\"Lko\",\"knp\",[1,2,3],[3,4,5]]\n",
    "print(var)\n"
   ]
  },
  {
   "cell_type": "code",
   "execution_count": 61,
   "metadata": {},
   "outputs": [
    {
     "name": "stdout",
     "output_type": "stream",
     "text": [
      "(1, 2, 3, 4, 5, 4)\n"
     ]
    }
   ],
   "source": [
    "tup = (1,2,3,4,5,4)\n",
    "print(tup)"
   ]
  },
  {
   "cell_type": "code",
   "execution_count": 66,
   "metadata": {},
   "outputs": [
    {
     "name": "stdout",
     "output_type": "stream",
     "text": [
      "<class 'tuple'>\n",
      "<class 'tuple'>\n",
      "(7, 11, 4.7, 'Lko')\n",
      "<class 'tuple'>\n",
      "(4,)\n"
     ]
    }
   ],
   "source": [
    "var=()\n",
    "print(type(var))\n",
    "var = tuple()\n",
    "print(type(var))\n",
    "var2 = 7,11,4.7,\"Lko\"\n",
    "print(var2)\n",
    "print(type(var2))\n",
    "var3 = 4,\n",
    "print(var3)"
   ]
  },
  {
   "cell_type": "code",
   "execution_count": 67,
   "metadata": {},
   "outputs": [
    {
     "name": "stdout",
     "output_type": "stream",
     "text": [
      "(4, 8, 9, 'Hello', 'Anukul')\n",
      "4\n",
      "8\n",
      "9\n",
      "Hello\n",
      "(9, 'Hello', 'Anukul')\n"
     ]
    }
   ],
   "source": [
    "var=(4,8,9,\"Hello\",\"Anukul\")\n",
    "print(var)\n",
    "print(var[0])\n",
    "print(var[1])\n",
    "print(var[2])\n",
    "print(var[3])\n",
    "print(var[2:5])\n"
   ]
  }
 ],
 "metadata": {
  "kernelspec": {
   "display_name": "Python 3.10.7 64-bit",
   "language": "python",
   "name": "python3"
  },
  "language_info": {
   "codemirror_mode": {
    "name": "ipython",
    "version": 3
   },
   "file_extension": ".py",
   "mimetype": "text/x-python",
   "name": "python",
   "nbconvert_exporter": "python",
   "pygments_lexer": "ipython3",
   "version": "3.10.7"
  },
  "orig_nbformat": 4,
  "vscode": {
   "interpreter": {
    "hash": "3d716c3c393405563a96c8c345e572cb2e06660910c1ca0f6f18a4dc0e8e6125"
   }
  }
 },
 "nbformat": 4,
 "nbformat_minor": 2
}

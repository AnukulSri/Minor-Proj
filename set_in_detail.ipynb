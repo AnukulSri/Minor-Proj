{
 "cells": [
  {
   "cell_type": "code",
   "execution_count": 1,
   "metadata": {},
   "outputs": [
    {
     "name": "stdout",
     "output_type": "stream",
     "text": [
      "<class 'dict'>\n"
     ]
    }
   ],
   "source": [
    "var = {} # this will print the class as dict because it counts it as dectionary\n",
    "print(type(var))"
   ]
  },
  {
   "cell_type": "code",
   "execution_count": 2,
   "metadata": {},
   "outputs": [
    {
     "name": "stdout",
     "output_type": "stream",
     "text": [
      "<class 'set'>\n"
     ]
    }
   ],
   "source": [
    "var = {1,2,3,4}\n",
    "print(type(var))"
   ]
  },
  {
   "cell_type": "code",
   "execution_count": 3,
   "metadata": {},
   "outputs": [
    {
     "name": "stdout",
     "output_type": "stream",
     "text": [
      "<class 'set'>\n"
     ]
    }
   ],
   "source": [
    "var = set()\n",
    "print(type(var))"
   ]
  },
  {
   "cell_type": "code",
   "execution_count": 4,
   "metadata": {},
   "outputs": [
    {
     "name": "stdout",
     "output_type": "stream",
     "text": [
      "{2, 4, 5, 6, 7}\n"
     ]
    }
   ],
   "source": [
    "var = {2,2,4,5,6,7,4}\n",
    "print(var)"
   ]
  },
  {
   "cell_type": "code",
   "execution_count": 9,
   "metadata": {},
   "outputs": [
    {
     "name": "stdout",
     "output_type": "stream",
     "text": [
      "{1, 2, 3, 4, 5}\n"
     ]
    }
   ],
   "source": [
    "var = {1,2,3,4,5}\n",
    "print(var)"
   ]
  },
  {
   "cell_type": "code",
   "execution_count": 17,
   "metadata": {},
   "outputs": [
    {
     "name": "stdout",
     "output_type": "stream",
     "text": [
      "{3}\n"
     ]
    }
   ],
   "source": [
    "a=set()\n",
    "a.add(3)\n",
    "print(a)"
   ]
  },
  {
   "cell_type": "code",
   "execution_count": 19,
   "metadata": {},
   "outputs": [
    {
     "name": "stdout",
     "output_type": "stream",
     "text": [
      "{1, 2, 3, 4}\n"
     ]
    }
   ],
   "source": [
    "p = set()\n",
    "p.update([1,2,3,4])\n",
    "print(p)"
   ]
  },
  {
   "cell_type": "markdown",
   "metadata": {},
   "source": [
    "to add data in set"
   ]
  },
  {
   "cell_type": "code",
   "execution_count": 1,
   "metadata": {},
   "outputs": [
    {
     "name": "stdout",
     "output_type": "stream",
     "text": [
      "{1, 2, 'True', 3, 'india'}\n",
      "{1, 2, 3, 'B', 'L', 'True', 'England', 'K', 'india', 'R', 'O'}\n"
     ]
    }
   ],
   "source": [
    "var= {1,2,3,'True',\"india\"}\n",
    "print(var)\n",
    "var.add(\"England\")\n",
    "var.update(\"RBL\",\"LKO\") # if use update function without listing items then it will print the data in seprated form.. like- RBL , LKO -> output; {r,b,l,k,o}\n",
    "print(var)"
   ]
  },
  {
   "cell_type": "markdown",
   "metadata": {},
   "source": [
    "to remove data from set"
   ]
  },
  {
   "cell_type": "code",
   "execution_count": 3,
   "metadata": {},
   "outputs": [
    {
     "name": "stdout",
     "output_type": "stream",
     "text": [
      "{2, 3, 4, 5}\n",
      "{3, 4, 5}\n",
      "{'World', 'phy', 'pop', 'HEllo', 'eng'}\n",
      "{'phy', 'pop', 'HEllo', 'eng'}\n",
      "{'pop', 'HEllo', 'eng'}\n",
      "None\n"
     ]
    }
   ],
   "source": [
    "var = {1,2,3,4,5}\n",
    "var.pop()\n",
    "print(var)\n",
    "var.pop()\n",
    "print(var)\n",
    "st = {\"HEllo\",\"World\",\"eng\",'phy','pop'}\n",
    "print(st)\n",
    "st.pop()\n",
    "print(st)\n",
    "#st.pop())\n",
    "st.remove(\"phy\")\n",
    "print(st)\n",
    "print(st.clear())"
   ]
  },
  {
   "cell_type": "markdown",
   "metadata": {},
   "source": [
    "mathematical function in sets"
   ]
  },
  {
   "cell_type": "code",
   "execution_count": 32,
   "metadata": {},
   "outputs": [
    {
     "name": "stdout",
     "output_type": "stream",
     "text": [
      "{1, 2, 3, 4, 5, 6, 8, 9, 10}\n",
      "{1, 2, 3, 4, 5, 6, 8, 9, 10}\n",
      "{2, 5}\n",
      "{2, 5}\n",
      "{1, 3, 4, 6}\n",
      "{1, 3, 4, 6, 8, 9, 10}\n"
     ]
    }
   ],
   "source": [
    "var = {1,2,3,4,5,6}\n",
    "var2 = {2,5,8,9,10,2}\n",
    "\n",
    "print(var | var2)\n",
    "print(var.union(var2))\n",
    "print(var & var2)\n",
    "print(var.intersection (var2))\n",
    "\n",
    "print(var.difference(var2))\n",
    "print(var.symmetric_difference(var2))\n",
    "#print"
   ]
  },
  {
   "cell_type": "code",
   "execution_count": 5,
   "metadata": {},
   "outputs": [
    {
     "name": "stdout",
     "output_type": "stream",
     "text": [
      "6\n"
     ]
    }
   ],
   "source": [
    "n= int(input())\n",
    "b =set()\n",
    "for i in range(0,n):\n",
    "    a = input()\n",
    "    b.add(a) \n",
    "print(len(b))\n"
   ]
  },
  {
   "cell_type": "code",
   "execution_count": 6,
   "metadata": {},
   "outputs": [
    {
     "name": "stdout",
     "output_type": "stream",
     "text": [
      "5\n"
     ]
    }
   ],
   "source": [
    "n = int(input())\n",
    "a = set(map(int,input().split()))\n",
    "n1 = int(input())\n",
    "b = set(map(int,input().split()))\n",
    "c = a|b\n",
    "print(len(c))"
   ]
  },
  {
   "cell_type": "code",
   "execution_count": 13,
   "metadata": {},
   "outputs": [
    {
     "name": "stdout",
     "output_type": "stream",
     "text": [
      "-10\n",
      "1\n",
      "2\n",
      "3\n",
      "4\n",
      "5\n",
      "6\n",
      "7\n",
      "8\n",
      "9\n"
     ]
    }
   ],
   "source": [
    "c = set()\n",
    "n= int(input())\n",
    "a = set(map(int,input().split()))\n",
    "n1 = int(input())\n",
    "b = set(map(int,input().split()))\n",
    "c = a.symmetric_difference(b)\n",
    "d = sorted(c)\n",
    "for i in d:\n",
    " print(i)"
   ]
  }
 ],
 "metadata": {
  "kernelspec": {
   "display_name": "Python 3.10.7 64-bit",
   "language": "python",
   "name": "python3"
  },
  "language_info": {
   "codemirror_mode": {
    "name": "ipython",
    "version": 3
   },
   "file_extension": ".py",
   "mimetype": "text/x-python",
   "name": "python",
   "nbconvert_exporter": "python",
   "pygments_lexer": "ipython3",
   "version": "3.10.7"
  },
  "orig_nbformat": 4,
  "vscode": {
   "interpreter": {
    "hash": "3d716c3c393405563a96c8c345e572cb2e06660910c1ca0f6f18a4dc0e8e6125"
   }
  }
 },
 "nbformat": 4,
 "nbformat_minor": 2
}

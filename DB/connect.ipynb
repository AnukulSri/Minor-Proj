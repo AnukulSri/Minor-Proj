{
 "cells": [
  {
   "cell_type": "code",
   "execution_count": 2,
   "metadata": {},
   "outputs": [],
   "source": [
    "import mysql.connector"
   ]
  },
  {
   "attachments": {},
   "cell_type": "markdown",
   "metadata": {},
   "source": [
    "check the connection"
   ]
  },
  {
   "cell_type": "code",
   "execution_count": 3,
   "metadata": {},
   "outputs": [
    {
     "name": "stdout",
     "output_type": "stream",
     "text": [
      "<mysql.connector.connection_cext.CMySQLConnection object at 0x000001E790DDBE20>\n"
     ]
    }
   ],
   "source": [
    "mydb = mysql.connector.connect(\n",
    "  host=\"localhost\",\n",
    "  user=\"sqluser\",\n",
    "  password=\"password\",\n",
    ")\n",
    "print(mydb)"
   ]
  },
  {
   "attachments": {},
   "cell_type": "markdown",
   "metadata": {},
   "source": [
    "to load/activate the database"
   ]
  },
  {
   "cell_type": "code",
   "execution_count": 2,
   "metadata": {},
   "outputs": [],
   "source": [
    "mydb = mysql.connector.connect(\n",
    "  host=\"localhost\",\n",
    "  user=\"sqluser\",\n",
    "  password=\"password\",\n",
    "  database =\"myrestaurant\"\n",
    ")"
   ]
  },
  {
   "attachments": {},
   "cell_type": "markdown",
   "metadata": {},
   "source": [
    "# command to check the table name present in Database"
   ]
  },
  {
   "cell_type": "code",
   "execution_count": 8,
   "metadata": {},
   "outputs": [
    {
     "name": "stdout",
     "output_type": "stream",
     "text": [
      "<mysql.connector.connection_cext.CMySQLConnection object at 0x0000022477A35E20>\n",
      "('users',)\n"
     ]
    }
   ],
   "source": [
    "mydb = mysql.connector.connect(\n",
    "  host=\"localhost\",\n",
    "  user=\"sqluser\",\n",
    "  password=\"password\",\n",
    "  database =\"myrestaurant\"\n",
    ")\n",
    "#print(mydb)\n",
    "mycursor = mydb.cursor()\n",
    "mycursor.execute(\"Show Tables\")\n",
    "for i in mycursor:\n",
    "  print(i)"
   ]
  },
  {
   "cell_type": "code",
   "execution_count": 2,
   "metadata": {},
   "outputs": [],
   "source": [
    "import mysql.connector\n",
    "conn = mysql.connector.connect(host = 'localhost',user = 'sqluser',password = 'password')"
   ]
  },
  {
   "cell_type": "code",
   "execution_count": 2,
   "metadata": {},
   "outputs": [
    {
     "name": "stdout",
     "output_type": "stream",
     "text": [
      "<mysql.connector.connection_cext.CMySQLConnection object at 0x000001772576EEE0>\n"
     ]
    }
   ],
   "source": [
    "\n",
    "print(conn)\n",
    "mycursor = conn.cursor()\n",
    "mycursor.execute(\"create database Python_DB\")"
   ]
  },
  {
   "cell_type": "code",
   "execution_count": 8,
   "metadata": {},
   "outputs": [],
   "source": [
    "conn = mysql.connector.connect(host = 'localhost',user = 'sqluser',password = 'password',database = 'python_db')"
   ]
  },
  {
   "cell_type": "code",
   "execution_count": 9,
   "metadata": {},
   "outputs": [],
   "source": [
    "my = conn.cursor()"
   ]
  },
  {
   "cell_type": "code",
   "execution_count": 4,
   "metadata": {},
   "outputs": [],
   "source": [
    "my.execute(\"Create table Admin_Table(id Int Auto_Increment primary key,Name varchar(50),password varchar(30))\")"
   ]
  },
  {
   "cell_type": "code",
   "execution_count": 5,
   "metadata": {},
   "outputs": [],
   "source": [
    "sql = \"INSERT INTO Admin_Table (Name, password) VALUES (%s, %s)\"\n",
    "val = (\"Admin\", \"Admin@123\")\n",
    "my.execute(sql, val)\n",
    "conn.commit()"
   ]
  },
  {
   "cell_type": "code",
   "execution_count": 10,
   "metadata": {},
   "outputs": [],
   "source": [
    "gf = 1"
   ]
  },
  {
   "cell_type": "code",
   "execution_count": 1,
   "metadata": {},
   "outputs": [
    {
     "ename": "NameError",
     "evalue": "name 'my' is not defined",
     "output_type": "error",
     "traceback": [
      "\u001b[1;31m---------------------------------------------------------------------------\u001b[0m",
      "\u001b[1;31mNameError\u001b[0m                                 Traceback (most recent call last)",
      "Cell \u001b[1;32mIn [1], line 1\u001b[0m\n\u001b[1;32m----> 1\u001b[0m my\u001b[39m.\u001b[39mexecute(\u001b[39mf\u001b[39m\u001b[39m\"\u001b[39m\u001b[39mSelect Name,password from admin_table where id = \u001b[39m\u001b[39m{\u001b[39;00mgf\u001b[39m}\u001b[39;00m\u001b[39m\"\u001b[39m)\n\u001b[0;32m      2\u001b[0m td \u001b[39m=\u001b[39m my\u001b[39m.\u001b[39mfetchone()\n\u001b[0;32m      3\u001b[0m \u001b[39mfor\u001b[39;00m i \u001b[39min\u001b[39;00m td:\n",
      "\u001b[1;31mNameError\u001b[0m: name 'my' is not defined"
     ]
    }
   ],
   "source": [
    "my.execute(f\"Select Name,password from admin_table where id = {gf}\")\n",
    "td = my.fetchone()\n",
    "for i in td:\n",
    "   s= i\n",
    "   print(s)"
   ]
  },
  {
   "cell_type": "code",
   "execution_count": 6,
   "metadata": {},
   "outputs": [
    {
     "name": "stdout",
     "output_type": "stream",
     "text": [
      "('information_schema',)\n",
      "('myrestaurant',)\n",
      "('mysql',)\n",
      "('performance_schema',)\n",
      "('practice',)\n",
      "('python_db',)\n",
      "('sys',)\n"
     ]
    }
   ],
   "source": [
    "my.execute(\"show databases\")\n",
    "for db in my:\n",
    "    print(db)"
   ]
  },
  {
   "cell_type": "code",
   "execution_count": 14,
   "metadata": {},
   "outputs": [],
   "source": [
    "sql = \"INSERT INTO customers (name, address) VALUES (%s, %s)\"\n",
    "val = (\"Michelle\", \"Blue Village\")\n",
    "my.execute(sql, val)\n",
    "conn.commit()"
   ]
  },
  {
   "attachments": {},
   "cell_type": "markdown",
   "metadata": {},
   "source": [
    "my.execute(\"insert into customer (name,address)values('Anukul','Lko')\")"
   ]
  },
  {
   "cell_type": "code",
   "execution_count": 1,
   "metadata": {},
   "outputs": [
    {
     "ename": "NameError",
     "evalue": "name 'my' is not defined",
     "output_type": "error",
     "traceback": [
      "\u001b[1;31m---------------------------------------------------------------------------\u001b[0m",
      "\u001b[1;31mNameError\u001b[0m                                 Traceback (most recent call last)",
      "Cell \u001b[1;32mIn [1], line 1\u001b[0m\n\u001b[1;32m----> 1\u001b[0m my\u001b[39m.\u001b[39mexecute(\u001b[39m\"\u001b[39m\u001b[39minsert into customer (name,address)values(\u001b[39m\u001b[39m'\u001b[39m\u001b[39mAnukul\u001b[39m\u001b[39m'\u001b[39m\u001b[39m,\u001b[39m\u001b[39m'\u001b[39m\u001b[39mLko\u001b[39m\u001b[39m'\u001b[39m\u001b[39m)\u001b[39m\u001b[39m\"\u001b[39m)\n\u001b[0;32m      2\u001b[0m conn\u001b[39m.\u001b[39mcommit()\n",
      "\u001b[1;31mNameError\u001b[0m: name 'my' is not defined"
     ]
    }
   ],
   "source": [
    "my.execute(\"insert into customer (name,address)values('Anukul','Lko')\")\n",
    "conn.commit()"
   ]
  },
  {
   "attachments": {},
   "cell_type": "markdown",
   "metadata": {},
   "source": [
    "- to insert bulk of data...\n",
    "- to execute it "
   ]
  },
  {
   "cell_type": "code",
   "execution_count": 11,
   "metadata": {},
   "outputs": [],
   "source": [
    "insert_data = \"insert into customers(name,address) values(%s,%s)\"\n",
    "rec = [\n",
    "(\"Yogendra\",\"LKO\"),\n",
    "(\"Arpit\",\"Knp\"),\n",
    "(\"Rachit\",\"Delhi\")\n",
    "]\n",
    "my.executemany(insert_data,rec)\n",
    "conn.commit()"
   ]
  },
  {
   "attachments": {},
   "cell_type": "markdown",
   "metadata": {},
   "source": [
    "# fetch the data from table-server :\n",
    "- fetchall () :it is used to fetch the data from table "
   ]
  },
  {
   "cell_type": "code",
   "execution_count": 5,
   "metadata": {},
   "outputs": [
    {
     "name": "stdout",
     "output_type": "stream",
     "text": [
      "(1, 'Michelle', 'Blue Village')\n",
      "(2, 'Michelle', 'Blue Village')\n",
      "(3, 'Michelle', 'Blue Village')\n",
      "(4, 'Yogendra', 'LKO')\n",
      "(5, 'Arpit', 'Knp')\n",
      "(6, 'Rachit', 'Delhi')\n"
     ]
    }
   ],
   "source": [
    "my.execute(\"Select * from customers\")\n",
    "show_result = my.fetchall()\n",
    "for i in show_result:\n",
    "    print(i)"
   ]
  },
  {
   "cell_type": "code",
   "execution_count": 6,
   "metadata": {},
   "outputs": [
    {
     "name": "stdout",
     "output_type": "stream",
     "text": [
      "1\n",
      "Michelle\n",
      "Blue Village\n"
     ]
    }
   ],
   "source": [
    "my.execute(\"Select * from customers\")\n",
    "show_result = my.fetchone()\n",
    "for i in show_result:\n",
    "    print(i)"
   ]
  },
  {
   "attachments": {},
   "cell_type": "markdown",
   "metadata": {},
   "source": [
    "where clause"
   ]
  },
  {
   "cell_type": "code",
   "execution_count": 5,
   "metadata": {},
   "outputs": [
    {
     "name": "stdout",
     "output_type": "stream",
     "text": [
      "(2, 'Michelle', 'Blue Village')\n"
     ]
    }
   ],
   "source": [
    "my.execute(\"Select * from customers where id = 2\")\n",
    "td = my.fetchall()\n",
    "for i in td:\n",
    "    print(i)"
   ]
  },
  {
   "cell_type": "code",
   "execution_count": 8,
   "metadata": {},
   "outputs": [],
   "source": [
    "my.execute(\"Update customers set address = 'Noida' where address = 'LKO'\")\n",
    "td = my.fetchall()\n",
    "for i in td:\n",
    "    print(i)"
   ]
  },
  {
   "cell_type": "code",
   "execution_count": 9,
   "metadata": {},
   "outputs": [
    {
     "name": "stdout",
     "output_type": "stream",
     "text": [
      "(1, 'Michelle', 'Blue Village')\n",
      "(2, 'Michelle', 'Blue Village')\n",
      "(3, 'Michelle', 'Blue Village')\n",
      "(4, 'Yogendra', 'Noida')\n",
      "(5, 'Arpit', 'Knp')\n",
      "(6, 'Rachit', 'Delhi')\n"
     ]
    }
   ],
   "source": [
    "my.execute(\"Select * from customers\")\n",
    "show_result = my.fetchall()\n",
    "for i in show_result:\n",
    "    print(i)"
   ]
  },
  {
   "cell_type": "code",
   "execution_count": 11,
   "metadata": {},
   "outputs": [
    {
     "name": "stdout",
     "output_type": "stream",
     "text": [
      "deleted successfully\n"
     ]
    }
   ],
   "source": [
    "my.execute(\"delete from customers where id = 6\")\n",
    "s_r = my.fetchall()\n",
    "print(\"deleted successfully\")\n",
    "conn.commit()"
   ]
  }
 ],
 "metadata": {
  "kernelspec": {
   "display_name": "base",
   "language": "python",
   "name": "python3"
  },
  "language_info": {
   "codemirror_mode": {
    "name": "ipython",
    "version": 3
   },
   "file_extension": ".py",
   "mimetype": "text/x-python",
   "name": "python",
   "nbconvert_exporter": "python",
   "pygments_lexer": "ipython3",
   "version": "3.9.12"
  },
  "orig_nbformat": 4,
  "vscode": {
   "interpreter": {
    "hash": "4e8f3a7a02010f64316f648f42951c185bd81b36418d82413abe5bcaf48078d2"
   }
  }
 },
 "nbformat": 4,
 "nbformat_minor": 2
}

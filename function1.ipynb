{
 "cells": [
  {
   "cell_type": "code",
   "execution_count": 6,
   "metadata": {},
   "outputs": [
    {
     "name": "stdout",
     "output_type": "stream",
     "text": [
      "5\n"
     ]
    }
   ],
   "source": [
    "c= 4\n",
    "d=6\n",
    "def add (a,b):\n",
    "    a =2\n",
    "    b= 3\n",
    "    c= a+b\n",
    "    print(c)\n",
    "add(c,d)"
   ]
  },
  {
   "cell_type": "code",
   "execution_count": 7,
   "metadata": {},
   "outputs": [
    {
     "name": "stdout",
     "output_type": "stream",
     "text": [
      "Welcome Anukul\n"
     ]
    }
   ],
   "source": [
    "def disp(name):\n",
    "    print(\"Welcome\",name)\n",
    "disp(\"Anukul\")"
   ]
  },
  {
   "cell_type": "code",
   "execution_count": 8,
   "metadata": {},
   "outputs": [
    {
     "name": "stdout",
     "output_type": "stream",
     "text": [
      "Welcome Anukul\n",
      "None\n"
     ]
    }
   ],
   "source": [
    "def disp(name):\n",
    "    print(\"Welcome\",name)\n",
    "print(disp(\"Anukul\"))"
   ]
  },
  {
   "cell_type": "code",
   "execution_count": 9,
   "metadata": {},
   "outputs": [
    {
     "name": "stdout",
     "output_type": "stream",
     "text": [
      "welcome\n"
     ]
    }
   ],
   "source": [
    "def disp():\n",
    "    return \"welcome\"\n",
    "print(disp())"
   ]
  },
  {
   "cell_type": "code",
   "execution_count": 13,
   "metadata": {},
   "outputs": [
    {
     "name": "stdout",
     "output_type": "stream",
     "text": [
      "Welcome\n"
     ]
    }
   ],
   "source": [
    "def disp():\n",
    "    return \"Welcome\"\n",
    "res = disp()\n",
    "print(res)"
   ]
  },
  {
   "cell_type": "code",
   "execution_count": 17,
   "metadata": {},
   "outputs": [
    {
     "name": "stdout",
     "output_type": "stream",
     "text": [
      "9\n",
      "1\n",
      "20\n",
      "1.25\n"
     ]
    }
   ],
   "source": [
    "def cal (a,b):\n",
    "    print(a+b)\n",
    "    print(b-a)\n",
    "    print(a*b)\n",
    "    print(b/a)\n",
    "cal(4,5)"
   ]
  },
  {
   "cell_type": "code",
   "execution_count": 18,
   "metadata": {},
   "outputs": [
    {
     "data": {
      "text/plain": [
       "(12, 4, 32, 2.0)"
      ]
     },
     "execution_count": 18,
     "metadata": {},
     "output_type": "execute_result"
    }
   ],
   "source": [
    "# func with return,with argument\n",
    "def calc(a,b):\n",
    "    c= a+b\n",
    "    d= b-a\n",
    "    e= a*b\n",
    "    f = b/a\n",
    "    return c,d,e,f\n",
    "calc(4,8)"
   ]
  },
  {
   "cell_type": "code",
   "execution_count": 25,
   "metadata": {},
   "outputs": [
    {
     "data": {
      "text/plain": [
       "(8, 12)"
      ]
     },
     "execution_count": 25,
     "metadata": {},
     "output_type": "execute_result"
    }
   ],
   "source": [
    "def calc():\n",
    "    a= 2\n",
    "    b= 6\n",
    "    return a+b,a*b\n",
    "calc()"
   ]
  },
  {
   "cell_type": "code",
   "execution_count": 24,
   "metadata": {},
   "outputs": [
    {
     "name": "stdout",
     "output_type": "stream",
     "text": [
      "4\n",
      "4\n",
      "1.0\n",
      "0\n"
     ]
    }
   ],
   "source": [
    "def calc(a,b):\n",
    "    print(a+b)\n",
    "    print(a*b)\n",
    "    print(b/a)\n",
    "    print(b-a)\n",
    "calc(2,2)"
   ]
  },
  {
   "cell_type": "code",
   "execution_count": 23,
   "metadata": {},
   "outputs": [
    {
     "name": "stdout",
     "output_type": "stream",
     "text": [
      "9\n"
     ]
    }
   ],
   "source": [
    "def calc():\n",
    "    a=3\n",
    "    b=6\n",
    "    print(a+b)\n",
    "    print(a*b)\n",
    "    print()\n",
    "calc()"
   ]
  },
  {
   "cell_type": "code",
   "execution_count": 26,
   "metadata": {},
   "outputs": [
    {
     "name": "stdout",
     "output_type": "stream",
     "text": [
      "Welcome Anukul Srivastava\n"
     ]
    }
   ],
   "source": [
    "def disp(first,last):\n",
    "    print(\"Welcome\",first,last)\n",
    "disp(\"Anukul\", \"Srivastava\")"
   ]
  },
  {
   "cell_type": "code",
   "execution_count": 31,
   "metadata": {},
   "outputs": [
    {
     "name": "stdout",
     "output_type": "stream",
     "text": [
      "Welcome Anukul Srivastava\n",
      "Welcome Anukul srivastava\n"
     ]
    }
   ],
   "source": [
    "def disp(first,last):\n",
    "    print(\"Welcome\",first,last)\n",
    "disp(first = \"Anukul\", last =\"Srivastava\")\n",
    "disp(\"Anukul\",last=\"srivastava\")"
   ]
  },
  {
   "cell_type": "code",
   "execution_count": 33,
   "metadata": {},
   "outputs": [
    {
     "name": "stdout",
     "output_type": "stream",
     "text": [
      "Welcome Anukul srivastava\n"
     ]
    }
   ],
   "source": [
    "def my(first,last = \"srivastava\"):\n",
    "    print(\"Welcome\",first,last)\n",
    "my(\"Anukul\")"
   ]
  },
  {
   "cell_type": "code",
   "execution_count": 42,
   "metadata": {},
   "outputs": [
    {
     "name": "stdout",
     "output_type": "stream",
     "text": [
      "State name is ('Lko', 'RBL')\n",
      "State name is ()\n",
      "<class 'NoneType'>\n"
     ]
    }
   ],
   "source": [
    "def disp(*args):\n",
    "    print(\"State name is\",args)\n",
    "disp(\"Lko\",\"RBL\")\n",
    "#print(type(disp()))"
   ]
  },
  {
   "cell_type": "code",
   "execution_count": 44,
   "metadata": {},
   "outputs": [
    {
     "name": "stdout",
     "output_type": "stream",
     "text": [
      "{'name': 'Anukul', 'last': 'srivastava', 'roll': 12}\n"
     ]
    }
   ],
   "source": [
    "def disp(**kwargs):\n",
    "    print(kwargs)\n",
    "disp(name='Anukul',last='srivastava',roll=12)\n",
    "#print(type())"
   ]
  },
  {
   "cell_type": "code",
   "execution_count": 51,
   "metadata": {},
   "outputs": [
    {
     "name": "stdout",
     "output_type": "stream",
     "text": [
      "{'name': 'Anukul', 'roll': 1, 'name2': 'Amit', 'roll1': 2}\n"
     ]
    }
   ],
   "source": [
    "def disp(**a):\n",
    "    print(a)\n",
    "disp(name='Anukul',roll = 1, name2=\"Amit\",roll1 = 2)"
   ]
  },
  {
   "cell_type": "markdown",
   "metadata": {},
   "source": [
    "# lambda Function"
   ]
  },
  {
   "cell_type": "code",
   "execution_count": 1,
   "metadata": {},
   "outputs": [
    {
     "name": "stdout",
     "output_type": "stream",
     "text": [
      "15\n"
     ]
    }
   ],
   "source": [
    "a = lambda x : x+10 \n",
    "print(a(5))"
   ]
  },
  {
   "cell_type": "code",
   "execution_count": 3,
   "metadata": {},
   "outputs": [
    {
     "name": "stdout",
     "output_type": "stream",
     "text": [
      "AnukulSrivastava\n"
     ]
    }
   ],
   "source": [
    "d = lambda first,last : first + last\n",
    "print(d('Anukul','Srivastava'))"
   ]
  },
  {
   "cell_type": "code",
   "execution_count": 4,
   "metadata": {},
   "outputs": [
    {
     "name": "stdout",
     "output_type": "stream",
     "text": [
      "AnukulSrivastava\n"
     ]
    }
   ],
   "source": [
    "a= input(\"Enter a name\")\n",
    "b= input(\"Enter a last name\")\n",
    "f=  lambda a,b : a + b\n",
    "print(f(a,b))"
   ]
  },
  {
   "cell_type": "markdown",
   "metadata": {},
   "source": [
    "# Map function"
   ]
  },
  {
   "cell_type": "code",
   "execution_count": 8,
   "metadata": {},
   "outputs": [
    {
     "name": "stdout",
     "output_type": "stream",
     "text": [
      "[1, 2, 3, 4, 5, 6]\n"
     ]
    }
   ],
   "source": [
    "a= list(map(int,input(\"Enter a number\").split()))\n",
    "print(a)"
   ]
  },
  {
   "cell_type": "code",
   "execution_count": 20,
   "metadata": {},
   "outputs": [
    {
     "name": "stdout",
     "output_type": "stream",
     "text": [
      "2\n"
     ]
    }
   ],
   "source": [
    "if 1%2 == 0:\n",
    "    print(\"1\")\n",
    "else:\n",
    "    print(\"2\")\n"
   ]
  },
  {
   "cell_type": "code",
   "execution_count": 18,
   "metadata": {},
   "outputs": [
    {
     "name": "stdout",
     "output_type": "stream",
     "text": [
      "2  is odd\n",
      "3  is even\n",
      "4  is odd\n",
      "5  is even\n",
      "6  is odd\n",
      "\n"
     ]
    }
   ],
   "source": [
    "a= list(map(int,input(\"Enter a number\").split()))\n",
    "try :\n",
    " for i in a:\n",
    "    if i%2 ==0:\n",
    "        print(a[i],' is even')\n",
    "    else : \n",
    "      print(a[i],' is odd')\n",
    "except:\n",
    "    print(\"\")"
   ]
  }
 ],
 "metadata": {
  "kernelspec": {
   "display_name": "Python 3.10.7 64-bit",
   "language": "python",
   "name": "python3"
  },
  "language_info": {
   "codemirror_mode": {
    "name": "ipython",
    "version": 3
   },
   "file_extension": ".py",
   "mimetype": "text/x-python",
   "name": "python",
   "nbconvert_exporter": "python",
   "pygments_lexer": "ipython3",
   "version": "3.10.7"
  },
  "orig_nbformat": 4,
  "vscode": {
   "interpreter": {
    "hash": "3d716c3c393405563a96c8c345e572cb2e06660910c1ca0f6f18a4dc0e8e6125"
   }
  }
 },
 "nbformat": 4,
 "nbformat_minor": 2
}

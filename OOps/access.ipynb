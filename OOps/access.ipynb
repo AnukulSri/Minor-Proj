{
 "cells": [
  {
   "cell_type": "code",
   "execution_count": 8,
   "metadata": {},
   "outputs": [
    {
     "name": "stdout",
     "output_type": "stream",
     "text": [
      "1\n",
      "10\n",
      "20\n"
     ]
    },
    {
     "ename": "AttributeError",
     "evalue": "type object 'A' has no attribute '_B__c'",
     "output_type": "error",
     "traceback": [
      "\u001b[1;31m---------------------------------------------------------------------------\u001b[0m",
      "\u001b[1;31mAttributeError\u001b[0m                            Traceback (most recent call last)",
      "Cell \u001b[1;32mIn [8], line 8\u001b[0m\n\u001b[0;32m      6\u001b[0m     \u001b[39mprint\u001b[39m(_b)\n\u001b[0;32m      7\u001b[0m     \u001b[39mprint\u001b[39m(__c)\n\u001b[1;32m----> 8\u001b[0m \u001b[39mclass\u001b[39;00m \u001b[39mB\u001b[39;00m(A):\n\u001b[0;32m      9\u001b[0m     \u001b[39mprint\u001b[39m(\u001b[39m-\u001b[39mA\u001b[39m.\u001b[39m__c)\n\u001b[0;32m     10\u001b[0m obj \u001b[39m=\u001b[39m B()\n",
      "Cell \u001b[1;32mIn [8], line 9\u001b[0m, in \u001b[0;36mB\u001b[1;34m()\u001b[0m\n\u001b[0;32m      8\u001b[0m \u001b[39mclass\u001b[39;00m \u001b[39mB\u001b[39;00m(A):\n\u001b[1;32m----> 9\u001b[0m     \u001b[39mprint\u001b[39m(\u001b[39m-\u001b[39mA\u001b[39m.\u001b[39;49m__c)\n",
      "\u001b[1;31mAttributeError\u001b[0m: type object 'A' has no attribute '_B__c'"
     ]
    }
   ],
   "source": [
    "class A:\n",
    "    a = 1\n",
    "    _b=10\n",
    "    __c=20\n",
    "    print(a)\n",
    "    print(_b)\n",
    "    print(__c)\n",
    "class B(A):\n",
    "    print(-A.__c)\n",
    "obj = B()\n",
    "print(obj.a)\n",
    "print(obj._b)\n",
    "print(obj._A__c)\n"
   ]
  }
 ],
 "metadata": {
  "kernelspec": {
   "display_name": "base",
   "language": "python",
   "name": "python3"
  },
  "language_info": {
   "codemirror_mode": {
    "name": "ipython",
    "version": 3
   },
   "file_extension": ".py",
   "mimetype": "text/x-python",
   "name": "python",
   "nbconvert_exporter": "python",
   "pygments_lexer": "ipython3",
   "version": "3.9.12 (main, Apr  4 2022, 05:22:27) [MSC v.1916 64 bit (AMD64)]"
  },
  "orig_nbformat": 4,
  "vscode": {
   "interpreter": {
    "hash": "4e8f3a7a02010f64316f648f42951c185bd81b36418d82413abe5bcaf48078d2"
   }
  }
 },
 "nbformat": 4,
 "nbformat_minor": 2
}

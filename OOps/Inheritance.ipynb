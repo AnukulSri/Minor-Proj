{
 "cells": [
  {
   "attachments": {},
   "cell_type": "markdown",
   "metadata": {},
   "source": [
    "Single Inheritance: when base class acquire the property of derived class\n",
    "\n",
    "Syntax : class class_name:\n",
    "            ------\n",
    "         class second(1 class):\n",
    "            ------"
   ]
  },
  {
   "cell_type": "code",
   "execution_count": 8,
   "metadata": {},
   "outputs": [
    {
     "name": "stdout",
     "output_type": "stream",
     "text": [
      "hello\n",
      "Hii\n",
      "(<class '__main__.demo'>,)\n",
      "talk\n"
     ]
    }
   ],
   "source": [
    "class demo:\n",
    "    def disp(self):\n",
    "        print(\"Hii\")\n",
    "class talk(demo):\n",
    "    def soo(self):\n",
    "        print(\"hello\")\n",
    "d = talk()\n",
    "d.soo()\n",
    "d.disp()\n",
    "print(talk.__bases__) # built in class\n",
    "print(talk.__name__)"
   ]
  },
  {
   "cell_type": "markdown",
   "metadata": {},
   "source": [
    "Constructor in single level inheritance"
   ]
  },
  {
   "cell_type": "code",
   "execution_count": 12,
   "metadata": {},
   "outputs": [
    {
     "name": "stdout",
     "output_type": "stream",
     "text": [
      "Welcome to my world!\n",
      "Programming makes everythinhg easy\n"
     ]
    }
   ],
   "source": [
    "class A:\n",
    "    def __init__(self):\n",
    "        print(\"Welcome to my world!\")\n",
    "class B(A):\n",
    "    def disp(self):\n",
    "        print(\"Programming makes everythinhg easy\")\n",
    "obj = B()\n",
    "obj.disp()"
   ]
  },
  {
   "attachments": {},
   "cell_type": "markdown",
   "metadata": {},
   "source": [
    "# both class have same constructor???  Overriding Concept\n",
    "\n",
    "then it will print the child class constructor data.\n",
    "to print both the constructor data of a class then we have to use super function: super().__init__()"
   ]
  },
  {
   "cell_type": "code",
   "execution_count": 22,
   "metadata": {},
   "outputs": [
    {
     "name": "stdout",
     "output_type": "stream",
     "text": [
      "fixing bugs\n"
     ]
    }
   ],
   "source": [
    "class A:\n",
    "    def __init__(self):\n",
    "        print(\"Programmer\")\n",
    "class B(A):\n",
    "    def __init__(self):\n",
    "        print(\"fixing bugs\")\n",
    "obj = B()"
   ]
  },
  {
   "cell_type": "code",
   "execution_count": 15,
   "metadata": {},
   "outputs": [
    {
     "name": "stdout",
     "output_type": "stream",
     "text": [
      "fixing bugs\n",
      "Programmer\n"
     ]
    }
   ],
   "source": [
    "class A:\n",
    "    def __init__(self):\n",
    "        print(\"Programmer\")\n",
    "class B(A):\n",
    "    def __init__(self):\n",
    "        print(\"fixing bugs\")\n",
    "        super().__init__()\n",
    "obj = B()\n"
   ]
  },
  {
   "cell_type": "code",
   "execution_count": 21,
   "metadata": {},
   "outputs": [
    {
     "name": "stdout",
     "output_type": "stream",
     "text": [
      "No hugs no kisses..\n",
      "Only bugs and fixes\n"
     ]
    }
   ],
   "source": [
    "class C:\n",
    "    def c1(self):\n",
    "        print(\"Life of programmer\")\n",
    "class D(C):\n",
    "    def c1(self):\n",
    "        print(\"No hugs and kisses..\")\n",
    "        print(\"Only bugs and fixes\")\n",
    "\n",
    "obj = D()\n",
    "obj.c1()"
   ]
  },
  {
   "cell_type": "markdown",
   "metadata": {},
   "source": [
    "- user input in single level inheritance:"
   ]
  },
  {
   "cell_type": "code",
   "execution_count": 25,
   "metadata": {},
   "outputs": [
    {
     "name": "stdout",
     "output_type": "stream",
     "text": [
      "Welcome! Anushka\n"
     ]
    }
   ],
   "source": [
    "class Top:\n",
    "    def __init__(self,a):\n",
    "        self.a = a\n",
    "class bottom(Top):\n",
    "    def display(self):\n",
    "        print(\"Welcome!\",self.a)\n",
    "        \n",
    "a = input(\"Enter name\")\n",
    "\n",
    "obj = bottom(a)\n",
    "obj.display()"
   ]
  },
  {
   "cell_type": "markdown",
   "metadata": {},
   "source": [
    "# Multilevel Inheritance:"
   ]
  },
  {
   "cell_type": "code",
   "execution_count": 22,
   "metadata": {},
   "outputs": [
    {
     "name": "stdout",
     "output_type": "stream",
     "text": [
      "Life of programmer\n",
      "No Dates\n",
      "Only updates\n"
     ]
    }
   ],
   "source": [
    "class A:\n",
    "    def disp(self):\n",
    "        print(\"Life of programmer\")\n",
    "class B(A):\n",
    "    def dis(self):\n",
    "        print(\"No Dates\")\n",
    "class C(B):\n",
    "    def display(self):\n",
    "        print(\"Only updates\")\n",
    "\n",
    "obj = C()\n",
    "obj.disp()\n",
    "obj.dis()\n",
    "obj.display()"
   ]
  },
  {
   "cell_type": "code",
   "execution_count": 5,
   "metadata": {},
   "outputs": [
    {
     "name": "stdout",
     "output_type": "stream",
     "text": [
      "Value of a is: 7\n",
      "value of b is: 8\n",
      "Addition of a number is: 15\n",
      "Multiple of number is: 56\n",
      "(<class '__main__.B'>,)\n"
     ]
    }
   ],
   "source": [
    "class A:\n",
    "    a =None\n",
    "    b = None\n",
    "    def disp(self):\n",
    "        print(\"Value of a is:\",self.a)\n",
    "        print(\"value of b is:\",self.b)\n",
    "class B(A):\n",
    "    def add(self):\n",
    "        print(\"Addition of a number is:\",(self.a + self.b))\n",
    "class C(B):\n",
    "    def __init__(self,x,y):\n",
    "        self.a = x\n",
    "        self.b = y\n",
    "    def mul(self):\n",
    "        print(\"Multiple of number is:\",self.a*self.b)\n",
    "\n",
    "obj = C(7,8)\n",
    "obj.disp()\n",
    "obj.add()\n",
    "obj.mul()\n",
    "print(C.__bases__)"
   ]
  },
  {
   "cell_type": "code",
   "execution_count": 6,
   "metadata": {},
   "outputs": [
    {
     "name": "stdout",
     "output_type": "stream",
     "text": [
      "Value of a is: 4\n",
      "value of b is: 5\n",
      "Addition of a number is: 9\n",
      "Multiple of number is: 20\n",
      "(<class '__main__.B'>,)\n"
     ]
    }
   ],
   "source": [
    "class A:\n",
    "    a =None\n",
    "    b = None\n",
    "    def disp(self):\n",
    "        print(\"Value of a is:\",self.a)\n",
    "        print(\"value of b is:\",self.b)\n",
    "class B(A):\n",
    "    def add(self):\n",
    "        print(\"Addition of a number is:\",(self.a + self.b))\n",
    "class C(B):\n",
    "    def __init__(self,x,y):\n",
    "        self.a = x\n",
    "        self.b = y\n",
    "    def mul(self):\n",
    "        print(\"Multiple of number is:\",self.a*self.b)\n",
    "x = int(input(\"Enter a number\"))\n",
    "y = int(input(\"Enter a number\"))\n",
    "\n",
    "obj = C(x,y)\n",
    "obj.disp()\n",
    "obj.add()\n",
    "obj.mul()\n",
    "print(C.__bases__)"
   ]
  },
  {
   "attachments": {},
   "cell_type": "markdown",
   "metadata": {},
   "source": [
    "Hierarchical Inheritance:"
   ]
  },
  {
   "cell_type": "code",
   "execution_count": 21,
   "metadata": {},
   "outputs": [
    {
     "name": "stdout",
     "output_type": "stream",
     "text": [
      "Number is : 7\n",
      "Number is : 8\n",
      "Addition of number is: 15\n",
      "Multiplication :  72\n",
      "False\n",
      "True\n"
     ]
    }
   ],
   "source": [
    "class A:\n",
    "    a = None\n",
    "    b= None\n",
    "    def disp(self):\n",
    "        print(\"Number is :\",self.a)\n",
    "        print(\"Number is :\",self.b)\n",
    "class B(A):\n",
    "    def __init__(self,x,y):\n",
    "        self.a = x\n",
    "        self.b = y\n",
    "    def add(self):\n",
    "        print(\"Addition of number is:\",self.a+self.b)\n",
    "class C(A):\n",
    "    def __init__(self,x,y):\n",
    "        self.a = x\n",
    "        self.b = y\n",
    "    def mul(self):\n",
    "        print(\"Multiplication : \",self.a*self.b)\n",
    "    \n",
    "obj = B(7,8)\n",
    "obj1 = C(8,9)\n",
    "\n",
    "obj.disp()\n",
    "obj.add()\n",
    "\n",
    "obj1.mul()\n",
    "\n",
    "print(isinstance(obj,C))\n",
    "print(isinstance(obj,A))\n"
   ]
  },
  {
   "attachments": {},
   "cell_type": "markdown",
   "metadata": {},
   "source": [
    "Multiple Inheritance:"
   ]
  },
  {
   "cell_type": "code",
   "execution_count": 11,
   "metadata": {},
   "outputs": [
    {
     "name": "stdout",
     "output_type": "stream",
     "text": [
      "number is: 4\n",
      "Number is: 5\n",
      "addition 9\n",
      "multiplication 20\n"
     ]
    }
   ],
   "source": [
    "class A:\n",
    "    a = None\n",
    "    b= None\n",
    "    def disp(self):\n",
    "        print(\"number is:\",self.a)\n",
    "        print(\"Number is:\",self.b)\n",
    "class B:\n",
    "    def add(self):\n",
    "        print(\"addition\",self.a+self.b)\n",
    "class C(A,B):\n",
    "    def __init__(self,x,y):\n",
    "        self.a = x\n",
    "        self.b = y\n",
    "    def mul(self):\n",
    "        print(\"multiplication\",self.a*self.b)\n",
    "obj = C(4,5)\n",
    "obj.disp()\n",
    "obj.add()\n",
    "obj.mul()"
   ]
  },
  {
   "attachments": {},
   "cell_type": "markdown",
   "metadata": {},
   "source": [
    "isubclass()method : \n",
    "syntax - issubclass(sub class,super class)"
   ]
  },
  {
   "cell_type": "code",
   "execution_count": 13,
   "metadata": {},
   "outputs": [
    {
     "name": "stdout",
     "output_type": "stream",
     "text": [
      "Life of programmer\n",
      "True\n",
      "True\n",
      "False\n"
     ]
    }
   ],
   "source": [
    "class A:\n",
    "    def disp(self):\n",
    "        print(\"Life of programmer\")\n",
    "class B(A):\n",
    "    def dis(self):\n",
    "        print(\"No Dates\")\n",
    "class C(B):\n",
    "    def display(self):\n",
    "        print(\"Only updates\")\n",
    "\n",
    "obj = C()\n",
    "obj.disp()\n",
    "print(issubclass(C,B))\n",
    "print(issubclass(C,A))\n",
    "print(issubclass(B,C))\n"
   ]
  },
  {
   "attachments": {},
   "cell_type": "markdown",
   "metadata": {},
   "source": [
    "isinstance()method:"
   ]
  },
  {
   "cell_type": "code",
   "execution_count": 15,
   "metadata": {},
   "outputs": [
    {
     "name": "stdout",
     "output_type": "stream",
     "text": [
      "Life of programmer\n",
      "True\n",
      "True\n"
     ]
    }
   ],
   "source": [
    "class A:\n",
    "    def disp(self):\n",
    "        print(\"Life of programmer\")\n",
    "class B(A):\n",
    "    def dis(self):\n",
    "        print(\"No Dates\")\n",
    "class C(B):\n",
    "    def display(self):\n",
    "        print(\"Only updates\")\n",
    "\n",
    "obj = C()\n",
    "obj.disp()\n",
    "print(isinstance(obj,C))\n",
    "print(isinstance(obj,B))\n"
   ]
  },
  {
   "cell_type": "code",
   "execution_count": 19,
   "metadata": {},
   "outputs": [
    {
     "name": "stdout",
     "output_type": "stream",
     "text": [
      "number is: 4\n",
      "Number is: 5\n",
      "addition 9\n",
      "multiplication 20\n",
      "True\n",
      "True\n"
     ]
    }
   ],
   "source": [
    "class A:\n",
    "    a = None\n",
    "    b= None\n",
    "    def disp(self):\n",
    "        print(\"number is:\",self.a)\n",
    "        print(\"Number is:\",self.b)\n",
    "class B:\n",
    "    def add(self):\n",
    "        print(\"addition\",self.a+self.b)\n",
    "class C(A,B):\n",
    "    def __init__(self,x,y):\n",
    "        self.a = x\n",
    "        self.b = y\n",
    "    def mul(self):\n",
    "        print(\"multiplication\",self.a*self.b)\n",
    "obj = C(4,5)\n",
    "obj.disp()\n",
    "obj.add()\n",
    "obj.mul()\n",
    "print(isinstance(obj,C))\n",
    "print(isinstance(obj,A))\n"
   ]
  },
  {
   "attachments": {},
   "cell_type": "markdown",
   "metadata": {},
   "source": [
    "Method Overriding Concept / Runtime polymorphism"
   ]
  },
  {
   "cell_type": "code",
   "execution_count": 24,
   "metadata": {},
   "outputs": [
    {
     "name": "stdout",
     "output_type": "stream",
     "text": [
      "10\n"
     ]
    }
   ],
   "source": [
    "class A:\n",
    "    a =None\n",
    "    b= None\n",
    "    def disp(self):\n",
    "        print(\"Number is :\",self.a)\n",
    "        print(\"Number is:\",self.b)\n",
    "class B(A):\n",
    "    def __init__(self,x,y):\n",
    "        self.a = x\n",
    "        self.b = y\n",
    "    def disp(self):\n",
    "        print(self.a+self.b)\n",
    "obj = B(5,5)\n",
    "obj.disp()"
   ]
  },
  {
   "cell_type": "code",
   "execution_count": 27,
   "metadata": {},
   "outputs": [
    {
     "name": "stdout",
     "output_type": "stream",
     "text": [
      "10\n",
      "Number is : 5\n",
      "Number is: 5\n"
     ]
    }
   ],
   "source": [
    "class A:\n",
    "    a =None\n",
    "    b= None\n",
    "    def disp(self):\n",
    "        print(\"Number is :\",self.a)\n",
    "        print(\"Number is:\",self.b)\n",
    "class B(A):\n",
    "    def __init__(self,x,y):\n",
    "        self.a = x\n",
    "        self.b = y\n",
    "    def disp(self):\n",
    "        print(self.a+self.b)\n",
    "        super().disp()\n",
    "obj = B(5,5)\n",
    "obj.disp()"
   ]
  }
 ],
 "metadata": {
  "kernelspec": {
   "display_name": "Python 3.9.12 ('base')",
   "language": "python",
   "name": "python3"
  },
  "language_info": {
   "codemirror_mode": {
    "name": "ipython",
    "version": 3
   },
   "file_extension": ".py",
   "mimetype": "text/x-python",
   "name": "python",
   "nbconvert_exporter": "python",
   "pygments_lexer": "ipython3",
   "version": "3.9.12 (main, Apr  4 2022, 05:22:27) [MSC v.1916 64 bit (AMD64)]"
  },
  "orig_nbformat": 4,
  "vscode": {
   "interpreter": {
    "hash": "4e8f3a7a02010f64316f648f42951c185bd81b36418d82413abe5bcaf48078d2"
   }
  }
 },
 "nbformat": 4,
 "nbformat_minor": 2
}

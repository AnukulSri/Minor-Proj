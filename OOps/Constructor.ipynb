{
 "cells": [
  {
   "cell_type": "code",
   "execution_count": 6,
   "metadata": {},
   "outputs": [
    {
     "name": "stdout",
     "output_type": "stream",
     "text": [
      "Hello my name is anukul\n"
     ]
    }
   ],
   "source": [
    "class Employee:  \n",
    "    def display(self):  \n",
    "        print(\"Hello my name is anukul\")\n",
    "emp = Employee()\n",
    "emp.display()"
   ]
  },
  {
   "cell_type": "markdown",
   "metadata": {},
   "source": [
    "creating multiple object of a class"
   ]
  },
  {
   "cell_type": "code",
   "execution_count": 7,
   "metadata": {},
   "outputs": [
    {
     "name": "stdout",
     "output_type": "stream",
     "text": [
      "Hello my name is anukul\n",
      "Hello my name is anukul\n"
     ]
    }
   ],
   "source": [
    "class Employee:  \n",
    "    def display(self): \n",
    "        print(\"Hello my name is anukul\")\n",
    "emp = Employee()\n",
    "emp.display()\n",
    "\n",
    "ma = Employee()\n",
    "ma.display()"
   ]
  },
  {
   "cell_type": "markdown",
   "metadata": {},
   "source": [
    "Creating constructor"
   ]
  },
  {
   "cell_type": "code",
   "execution_count": 10,
   "metadata": {},
   "outputs": [
    {
     "name": "stdout",
     "output_type": "stream",
     "text": [
      "constructor is executed automatically at the time of object creation\n"
     ]
    }
   ],
   "source": [
    "class test:\n",
    "    def __init__(self): # its a constructor\n",
    "        print(\"constructor is executed automatically at the time of object creation\")\n",
    "te = test()"
   ]
  },
  {
   "cell_type": "markdown",
   "metadata": {},
   "source": [
    "calling constructor by its name"
   ]
  },
  {
   "cell_type": "code",
   "execution_count": 11,
   "metadata": {},
   "outputs": [
    {
     "name": "stdout",
     "output_type": "stream",
     "text": [
      "Calling constructor by its name\n",
      "Calling constructor by its name\n"
     ]
    }
   ],
   "source": [
    "class test:\n",
    "    def __init__(self):\n",
    "        print(\"Calling constructor by its name\")\n",
    "te = test() # this also print the data as init function is used\n",
    "te.__init__() # here we are calling constructor by its name"
   ]
  },
  {
   "cell_type": "markdown",
   "metadata": {},
   "source": [
    "craeting an empty constructor"
   ]
  },
  {
   "cell_type": "code",
   "execution_count": 13,
   "metadata": {},
   "outputs": [
    {
     "name": "stdout",
     "output_type": "stream",
     "text": [
      "m1 is instance method called with object name\n",
      "['__add__', '__class__', '__contains__', '__delattr__', '__dir__', '__doc__', '__eq__', '__format__', '__ge__', '__getattribute__', '__getitem__', '__getnewargs__', '__gt__', '__hash__', '__init__', '__init_subclass__', '__iter__', '__le__', '__len__', '__lt__', '__mod__', '__mul__', '__ne__', '__new__', '__reduce__', '__reduce_ex__', '__repr__', '__rmod__', '__rmul__', '__setattr__', '__sizeof__', '__str__', '__subclasshook__', 'capitalize', 'casefold', 'center', 'count', 'encode', 'endswith', 'expandtabs', 'find', 'format', 'format_map', 'index', 'isalnum', 'isalpha', 'isascii', 'isdecimal', 'isdigit', 'isidentifier', 'islower', 'isnumeric', 'isprintable', 'isspace', 'istitle', 'isupper', 'join', 'ljust', 'lower', 'lstrip', 'maketrans', 'partition', 'removeprefix', 'removesuffix', 'replace', 'rfind', 'rindex', 'rjust', 'rpartition', 'rsplit', 'rstrip', 'split', 'splitlines', 'startswith', 'strip', 'swapcase', 'title', 'translate', 'upper', 'zfill']\n"
     ]
    }
   ],
   "source": [
    "class check:  \n",
    "    def m1(self):   # here python automatically include an empty constructor.\n",
    "        print(\"m1 is instance method called with object name\")\n",
    "ch = check()\n",
    "ch.m1()\n",
    "\n",
    "print(dir(\"check\")) # this is to check the directory included in this specific class. here init is also included as an empty constructor"
   ]
  },
  {
   "cell_type": "code",
   "execution_count": 18,
   "metadata": {},
   "outputs": [
    {
     "name": "stdout",
     "output_type": "stream",
     "text": [
      "hiiiiiii\n",
      "2\n"
     ]
    }
   ],
   "source": [
    "class self :\n",
    "    def __init__(self):\n",
    "        print(\"hiiiiiii\")\n",
    "        print(self) # it will print the current address of an object because there is not any variable\n",
    "d = self()"
   ]
  },
  {
   "cell_type": "markdown",
   "metadata": {},
   "source": [
    "# non parameterised constructor"
   ]
  },
  {
   "cell_type": "code",
   "execution_count": 19,
   "metadata": {},
   "outputs": [
    {
     "name": "stdout",
     "output_type": "stream",
     "text": [
      "Employee id is : 23\n"
     ]
    }
   ],
   "source": [
    "class non_para:\n",
    "    def __init__(self):\n",
    "        f = 23\n",
    "        print(\"Employee id is :\",f)\n",
    "e = non_para()"
   ]
  },
  {
   "cell_type": "markdown",
   "metadata": {},
   "source": [
    "# parameterised Constructor"
   ]
  },
  {
   "cell_type": "code",
   "execution_count": 24,
   "metadata": {},
   "outputs": [
    {
     "name": "stdout",
     "output_type": "stream",
     "text": [
      "Employee id is: 2\n",
      "Employee id is: 3\n"
     ]
    }
   ],
   "source": [
    "class para:\n",
    "    def __init__(self,id):\n",
    "        print(\"Employee id is:\",id)\n",
    "p = para(2)\n",
    "p1 = para(3)"
   ]
  },
  {
   "cell_type": "code",
   "execution_count": 26,
   "metadata": {},
   "outputs": [
    {
     "name": "stdout",
     "output_type": "stream",
     "text": [
      "Employee id is: 1\n",
      "Employee name is: Anukul\n"
     ]
    }
   ],
   "source": [
    "class program:\n",
    "    def __init__(self,id,name):\n",
    "        self.id  = id\n",
    "        self.name = name\n",
    "    def display(self):\n",
    "        print(\"Employee id is:\",self.id)\n",
    "        print(\"Employee name is:\",self.name)\n",
    "e1 = program(1,\"Anukul\")\n",
    "e1.display()"
   ]
  },
  {
   "cell_type": "code",
   "execution_count": 30,
   "metadata": {},
   "outputs": [
    {
     "name": "stdout",
     "output_type": "stream",
     "text": [
      "default contstructor\n",
      "hello henry\n",
      "Welcome ANukul\n"
     ]
    }
   ],
   "source": [
    "class demo:\n",
    "    name = input(\"ENter name\")\n",
    "    def __init__(self):\n",
    "        d =\"henry\"\n",
    "        print(\"default contstructor\")\n",
    "        print(\"hello\",d)\n",
    "    def disp(self):\n",
    "        print(\"Welcome\",self.name)\n",
    "\n",
    "obj = demo()\n",
    "obj.disp()"
   ]
  },
  {
   "cell_type": "code",
   "execution_count": 32,
   "metadata": {},
   "outputs": [
    {
     "name": "stdout",
     "output_type": "stream",
     "text": [
      "student name is: Anukul\n",
      "Student roll number is: 1\n",
      "student name is: Arpit\n",
      "Student roll number is: 2\n"
     ]
    }
   ],
   "source": [
    "class stud:\n",
    "    def __init__(self,name,roll):\n",
    "        self.name = name\n",
    "        self.roll = roll\n",
    "    def disp(self):\n",
    "        print(\"student name is:\",self.name)\n",
    "        print(\"Student roll number is:\",self.roll)\n",
    "d=  stud(\"Anukul\",1)\n",
    "d1 = stud(\"Arpit\",2)\n",
    "\n",
    "d.disp()\n",
    "d1.disp()"
   ]
  },
  {
   "cell_type": "markdown",
   "metadata": {},
   "source": [
    "user input parametrised constructor"
   ]
  },
  {
   "cell_type": "code",
   "execution_count": 3,
   "metadata": {},
   "outputs": [
    {
     "name": "stdout",
     "output_type": "stream",
     "text": [
      "student name is: lion\n",
      "Student roll number is: 9\n"
     ]
    }
   ],
   "source": [
    "class stud:\n",
    "    def __init__(self,name,roll):\n",
    "        self.name = name\n",
    "        self.roll = roll\n",
    "    def disp(self):\n",
    "        print(\"student name is:\",self.name)\n",
    "        print(\"Student roll number is:\",self.roll)\n",
    "\n",
    "na = input(\"enter name\")\n",
    "ro = int(input(\"enter roll number\"))\n",
    "d=  stud(na,ro)\n",
    "\n",
    "d.disp()"
   ]
  },
  {
   "cell_type": "markdown",
   "metadata": {},
   "source": [
    "More than one constructor in a class: if we create 2 constructor with same name then the last one will be executed."
   ]
  },
  {
   "cell_type": "code",
   "execution_count": 5,
   "metadata": {},
   "outputs": [
    {
     "name": "stdout",
     "output_type": "stream",
     "text": [
      "hello\n",
      "Welcome\n"
     ]
    }
   ],
   "source": [
    "class demo:\n",
    "  def __init__(self):\n",
    "    print(\"hi\")\n",
    "  def __init__(self):\n",
    "    print(\"hello\")\n",
    "  def disp(self):\n",
    "    print(\"Welcome\")\n",
    "obj = demo()\n",
    "obj.disp()"
   ]
  }
 ],
 "metadata": {
  "kernelspec": {
   "display_name": "Python 3.9.12 ('base')",
   "language": "python",
   "name": "python3"
  },
  "language_info": {
   "codemirror_mode": {
    "name": "ipython",
    "version": 3
   },
   "file_extension": ".py",
   "mimetype": "text/x-python",
   "name": "python",
   "nbconvert_exporter": "python",
   "pygments_lexer": "ipython3",
   "version": "3.9.12"
  },
  "orig_nbformat": 4,
  "vscode": {
   "interpreter": {
    "hash": "4e8f3a7a02010f64316f648f42951c185bd81b36418d82413abe5bcaf48078d2"
   }
  }
 },
 "nbformat": 4,
 "nbformat_minor": 2
}

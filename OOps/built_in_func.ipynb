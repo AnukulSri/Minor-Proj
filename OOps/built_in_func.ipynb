{
 "cells": [
  {
   "cell_type": "markdown",
   "metadata": {},
   "source": [
    "4 types of built-in-function\n",
    "\n",
    "- getattr()\n",
    "- setattr()\n",
    "- delattr()\n",
    "- hasattr()"
   ]
  },
  {
   "cell_type": "code",
   "execution_count": 32,
   "metadata": {},
   "outputs": [
    {
     "name": "stdout",
     "output_type": "stream",
     "text": [
      "Name is: Anukul\n",
      "Id is : 1\n",
      "Age is: 20\n",
      "20\n",
      "Anukul\n",
      "Anushka\n"
     ]
    },
    {
     "ename": "AttributeError",
     "evalue": "'Employee' object has no attribute 'age'",
     "output_type": "error",
     "traceback": [
      "\u001b[1;31m---------------------------------------------------------------------------\u001b[0m",
      "\u001b[1;31mAttributeError\u001b[0m                            Traceback (most recent call last)",
      "Cell \u001b[1;32mIn [32], line 19\u001b[0m\n\u001b[0;32m     17\u001b[0m \u001b[39mprint\u001b[39m(\u001b[39mgetattr\u001b[39m(emp,\u001b[39m'\u001b[39m\u001b[39mname\u001b[39m\u001b[39m'\u001b[39m))\n\u001b[0;32m     18\u001b[0m \u001b[39mdelattr\u001b[39m(emp,\u001b[39m'\u001b[39m\u001b[39mage\u001b[39m\u001b[39m'\u001b[39m)\n\u001b[1;32m---> 19\u001b[0m \u001b[39mprint\u001b[39m(emp\u001b[39m.\u001b[39;49mage)\n\u001b[0;32m     20\u001b[0m \u001b[39mprint\u001b[39m(\u001b[39mhasattr\u001b[39m(emp,\u001b[39mid\u001b[39m))\n",
      "\u001b[1;31mAttributeError\u001b[0m: 'Employee' object has no attribute 'age'"
     ]
    }
   ],
   "source": [
    "class Employee:\n",
    "\n",
    "    def __init__(self,name,id,age):\n",
    "        self.name = name\n",
    "        self.id = id\n",
    "        self.age = age\n",
    "    def display(self):\n",
    "        print(\"Name is:\",self.name)\n",
    "        print(\"Id is :\",self.id)\n",
    "        print(\"Age is:\",self.age)\n",
    "\n",
    "emp = Employee(\"Anukul\",1,20)\n",
    "emp.display()\n",
    "print(getattr(emp ,'name'))\n",
    "setattr(emp,'name','Anushka')\n",
    "print(getattr(emp,'name'))\n",
    "delattr(emp,'age')\n",
    "print(emp.age)\n",
    "print(hasattr(emp,id))# this will not print because an error occured above "
   ]
  },
  {
   "cell_type": "code",
   "execution_count": 29,
   "metadata": {},
   "outputs": [
    {
     "name": "stdout",
     "output_type": "stream",
     "text": [
      "Name is: Anukul\n",
      "Id is : 1\n",
      "Age is: 20\n",
      "Anukul\n",
      "Anushka\n",
      "Age is not deleted\n",
      "True\n"
     ]
    }
   ],
   "source": [
    "class Employee:\n",
    "    def __init__(self,name,id,age):\n",
    "        self.name = name\n",
    "        self.id = id\n",
    "        self.age = age\n",
    "    def display(self):\n",
    "        print(\"Name is:\",self.name)\n",
    "        print(\"Id is :\",self.id)\n",
    "        print(\"Age is:\",self.age)\n",
    "\n",
    "emp = Employee(\"Anukul\",1,20)\n",
    "emp.display()\n",
    "try :\n",
    "    print(getattr(emp ,'name'))\n",
    "    setattr(emp,'name','Anushka')\n",
    "    print(getattr(emp,'name'))\n",
    "    delattr(emp,'age')\n",
    "    print(emp.age)\n",
    "except:\n",
    "    print(\"Age is not deleted\")\n",
    "print(hasattr(emp,'id'))\n"
   ]
  },
  {
   "cell_type": "markdown",
   "metadata": {},
   "source": [
    "# built-in-class"
   ]
  },
  {
   "cell_type": "code",
   "execution_count": 27,
   "metadata": {},
   "outputs": [
    {
     "name": "stdout",
     "output_type": "stream",
     "text": [
      "Name is: Anukul\n",
      "Id is : 1\n",
      "Age is: 20\n",
      "{'name': 'Anukul', 'id': 1, 'age': 20}\n",
      "__main__\n",
      "About my built-in class\n",
      "(<class 'object'>,)\n"
     ]
    }
   ],
   "source": [
    "class Employee:\n",
    "    \"About my built-in class\"\n",
    "    def __init__(self,name,id,age):\n",
    "        self.name = name\n",
    "        self.id = id\n",
    "        self.age = age\n",
    "    def display(self):\n",
    "        print(\"Name is:\",self.name)\n",
    "        print(\"Id is :\",self.id)\n",
    "        print(\"Age is:\",self.age)\n",
    "\n",
    "emp = Employee(\"Anukul\",1,20)\n",
    "emp.display()\n",
    "\n",
    "print(emp.__dict__) # this will print the detail in dictionary\n",
    "print(emp.__module__) # this will print __main__\n",
    "print(emp.__doc__) # Here the documentation of a class/function will be print\n",
    "print(Employee.__bases__)"
   ]
  },
  {
   "cell_type": "code",
   "execution_count": 34,
   "metadata": {},
   "outputs": [
    {
     "name": "stdout",
     "output_type": "stream",
     "text": [
      "Employee\n"
     ]
    }
   ],
   "source": [
    "print(Employee.__name__)"
   ]
  }
 ],
 "metadata": {
  "kernelspec": {
   "display_name": "Python 3.9.12 ('base')",
   "language": "python",
   "name": "python3"
  },
  "language_info": {
   "codemirror_mode": {
    "name": "ipython",
    "version": 3
   },
   "file_extension": ".py",
   "mimetype": "text/x-python",
   "name": "python",
   "nbconvert_exporter": "python",
   "pygments_lexer": "ipython3",
   "version": "3.9.12 (main, Apr  4 2022, 05:22:27) [MSC v.1916 64 bit (AMD64)]"
  },
  "orig_nbformat": 4,
  "vscode": {
   "interpreter": {
    "hash": "4e8f3a7a02010f64316f648f42951c185bd81b36418d82413abe5bcaf48078d2"
   }
  }
 },
 "nbformat": 4,
 "nbformat_minor": 2
}

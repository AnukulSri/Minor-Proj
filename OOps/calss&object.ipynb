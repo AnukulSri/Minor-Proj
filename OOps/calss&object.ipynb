{
 "cells": [
  {
   "cell_type": "markdown",
   "metadata": {},
   "source": [
    "syntax of declare a class:\n",
    "- class class name\n",
    "- variables\n",
    "- methods\n",
    "- constructor"
   ]
  },
  {
   "cell_type": "code",
   "execution_count": 3,
   "metadata": {},
   "outputs": [
    {
     "name": "stdout",
     "output_type": "stream",
     "text": [
      "Student roll no. is: 11\n",
      "student name is: Anukul\n"
     ]
    }
   ],
   "source": [
    "class demo:\n",
    "    r = 11\n",
    "    name = \"Anukul\"\n",
    "    def display(self):\n",
    "        print(\"Student roll no. is:\",self.r)\n",
    "        print(\"student name is:\",self.name)\n",
    "d = demo()\n",
    "d.display()"
   ]
  },
  {
   "cell_type": "code",
   "execution_count": 29,
   "metadata": {},
   "outputs": [
    {
     "name": "stdout",
     "output_type": "stream",
     "text": [
      "Student roll no. is: 11\n",
      "student name is: Anukul\n",
      "['__class__', '__delattr__', '__dict__', '__dir__', '__doc__', '__eq__', '__format__', '__ge__', '__getattribute__', '__gt__', '__hash__', '__init__', '__init_subclass__', '__le__', '__lt__', '__module__', '__ne__', '__new__', '__reduce__', '__reduce_ex__', '__repr__', '__setattr__', '__sizeof__', '__str__', '__subclasshook__', '__weakref__', 'display', 'name', 'r']\n"
     ]
    }
   ],
   "source": [
    "class demo:\n",
    "    r = 11\n",
    "    name = \"Anukul\"\n",
    "    def display(se):\n",
    "        print(\"Student roll no. is:\",se.r)\n",
    "        print(\"student name is:\",se.name)\n",
    "d = demo()\n",
    "d.display()\n",
    "print(dir(demo))"
   ]
  },
  {
   "cell_type": "code",
   "execution_count": 35,
   "metadata": {},
   "outputs": [
    {
     "name": "stdout",
     "output_type": "stream",
     "text": [
      "id is: 1\n",
      "{'id': 1}\n"
     ]
    }
   ],
   "source": [
    "class sample:\n",
    "    def __init__(self,id):\n",
    "        self.id =id\n",
    "        print(\"id is:\",id)\n",
    "\n",
    "f = sample(1)\n",
    "print(f.__dict__)"
   ]
  },
  {
   "cell_type": "code",
   "execution_count": 20,
   "metadata": {},
   "outputs": [
    {
     "name": "stdout",
     "output_type": "stream",
     "text": [
      "200\n"
     ]
    }
   ],
   "source": [
    "class area:\n",
    "    def a_o_r(self):\n",
    "        l =10\n",
    "        b=20\n",
    "        print(l*b)\n",
    "d = area()\n",
    "d.a_o_r()\n"
   ]
  },
  {
   "cell_type": "markdown",
   "metadata": {},
   "source": [
    "delete: variable function object class"
   ]
  },
  {
   "cell_type": "code",
   "execution_count": 27,
   "metadata": {},
   "outputs": [],
   "source": [
    "class area:\n",
    "    def a_o_r(self):\n",
    "        l =10\n",
    "        b=20\n",
    "        print(l*b)\n",
    "d = area()\n",
    "#d.a_o_r()\n",
    "del area"
   ]
  },
  {
   "cell_type": "markdown",
   "metadata": {},
   "source": [
    "deleting the variable from a function"
   ]
  },
  {
   "cell_type": "code",
   "execution_count": 40,
   "metadata": {},
   "outputs": [
    {
     "name": "stdout",
     "output_type": "stream",
     "text": [
      "Employee id is: 1\n"
     ]
    },
    {
     "ename": "AttributeError",
     "evalue": "'program' object has no attribute 'name'",
     "output_type": "error",
     "traceback": [
      "\u001b[1;31m---------------------------------------------------------------------------\u001b[0m",
      "\u001b[1;31mAttributeError\u001b[0m                            Traceback (most recent call last)",
      "Cell \u001b[1;32mIn [40], line 10\u001b[0m\n\u001b[0;32m      8\u001b[0m e1 \u001b[39m=\u001b[39m program(\u001b[39m1\u001b[39m,\u001b[39m\"\u001b[39m\u001b[39mAnukul\u001b[39m\u001b[39m\"\u001b[39m)\n\u001b[0;32m      9\u001b[0m \u001b[39mdel\u001b[39;00m e1\u001b[39m.\u001b[39mname\n\u001b[1;32m---> 10\u001b[0m e1\u001b[39m.\u001b[39;49mdisplay()\n",
      "Cell \u001b[1;32mIn [40], line 7\u001b[0m, in \u001b[0;36mprogram.display\u001b[1;34m(self)\u001b[0m\n\u001b[0;32m      5\u001b[0m \u001b[39mdef\u001b[39;00m \u001b[39mdisplay\u001b[39m(\u001b[39mself\u001b[39m):\n\u001b[0;32m      6\u001b[0m     \u001b[39mprint\u001b[39m(\u001b[39m\"\u001b[39m\u001b[39mEmployee id is:\u001b[39m\u001b[39m\"\u001b[39m,\u001b[39mself\u001b[39m\u001b[39m.\u001b[39mid)\n\u001b[1;32m----> 7\u001b[0m     \u001b[39mprint\u001b[39m(\u001b[39m\"\u001b[39m\u001b[39mEmployee name is:\u001b[39m\u001b[39m\"\u001b[39m,\u001b[39mself\u001b[39;49m\u001b[39m.\u001b[39;49mname)\n",
      "\u001b[1;31mAttributeError\u001b[0m: 'program' object has no attribute 'name'"
     ]
    }
   ],
   "source": [
    "class program:\n",
    "    def __init__(self,id,name):\n",
    "        self.id  = id\n",
    "        self.name = name\n",
    "    def display(self):\n",
    "        print(\"Employee id is:\",self.id)\n",
    "        print(\"Employee name is:\",self.name)\n",
    "e1 = program(1,\"Anukul\")\n",
    "del e1.name # deleting a variable\n",
    "e1.display()\n"
   ]
  }
 ],
 "metadata": {
  "kernelspec": {
   "display_name": "Python 3.9.12 ('base')",
   "language": "python",
   "name": "python3"
  },
  "language_info": {
   "codemirror_mode": {
    "name": "ipython",
    "version": 3
   },
   "file_extension": ".py",
   "mimetype": "text/x-python",
   "name": "python",
   "nbconvert_exporter": "python",
   "pygments_lexer": "ipython3",
   "version": "3.9.12 (main, Apr  4 2022, 05:22:27) [MSC v.1916 64 bit (AMD64)]"
  },
  "orig_nbformat": 4,
  "vscode": {
   "interpreter": {
    "hash": "4e8f3a7a02010f64316f648f42951c185bd81b36418d82413abe5bcaf48078d2"
   }
  }
 },
 "nbformat": 4,
 "nbformat_minor": 2
}

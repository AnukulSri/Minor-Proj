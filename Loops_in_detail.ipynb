{
 "cells": [
  {
   "cell_type": "code",
   "execution_count": 1,
   "metadata": {},
   "outputs": [
    {
     "name": "stdout",
     "output_type": "stream",
     "text": [
      "1\n",
      "2\n",
      "3\n",
      "4\n",
      "5\n",
      "6\n",
      "7\n",
      "8\n",
      "9\n"
     ]
    }
   ],
   "source": [
    "for i in range(1,10):\n",
    "    print(i)"
   ]
  },
  {
   "cell_type": "code",
   "execution_count": 3,
   "metadata": {},
   "outputs": [
    {
     "name": "stdout",
     "output_type": "stream",
     "text": [
      "2\n",
      "4\n",
      "6\n",
      "8\n",
      "10\n",
      "12\n",
      "14\n",
      "16\n",
      "18\n",
      "20\n"
     ]
    }
   ],
   "source": [
    "n= int(input(\"Enter a number\"))\n",
    "for i in range(1,11):\n",
    "    print(n*i)"
   ]
  },
  {
   "cell_type": "code",
   "execution_count": 4,
   "metadata": {},
   "outputs": [
    {
     "name": "stdout",
     "output_type": "stream",
     "text": [
      "24\n"
     ]
    }
   ],
   "source": [
    "n = int(input(\"Enter a number\"))\n",
    "f= 1\n",
    "for i in range (n,1,-1):\n",
    "    f =f*i\n",
    "print(f)"
   ]
  },
  {
   "cell_type": "code",
   "execution_count": 1,
   "metadata": {},
   "outputs": [
    {
     "name": "stdout",
     "output_type": "stream",
     "text": [
      "Access granted\n"
     ]
    }
   ],
   "source": [
    "pas = \"Anukul123\"\n",
    "user = input(\"Enter pass\")\n",
    "while pas != user :\n",
    "    user = input(\"Enter a pass\")\n",
    "else :\n",
    "    print(\"Access granted\")"
   ]
  },
  {
   "cell_type": "code",
   "execution_count": 8,
   "metadata": {},
   "outputs": [
    {
     "name": "stdout",
     "output_type": "stream",
     "text": [
      "Sum of digit is 6\n",
      "Sum of product is 6\n"
     ]
    }
   ],
   "source": [
    "n = int(input(\"Enter a digit\"))\n",
    "a= 0\n",
    "m=1\n",
    "while n>0:\n",
    "    s = n%10\n",
    "    a = a+s\n",
    "    m= m*s\n",
    "    n = n//10\n",
    "print(\"Sum of digit is\",a)\n",
    "print(\"Sum of product is\",m)\n",
    "\n"
   ]
  },
  {
   "cell_type": "code",
   "execution_count": 39,
   "metadata": {},
   "outputs": [
    {
     "name": "stdout",
     "output_type": "stream",
     "text": [
      "Number is Armstrong\n"
     ]
    }
   ],
   "source": [
    "n =int(input(\"Enter a number\"))\n",
    "a = n\n",
    "arm = 0\n",
    "cou = str(n)\n",
    "#print(type(cou))\n",
    "df = len(cou)\n",
    "#print(df)\n",
    "while a>0:\n",
    "    s = a%10\n",
    "    power = s**df\n",
    "    arm = arm + power\n",
    "    a = a//10\n",
    "if n == arm:\n",
    "    print(\"Number is Armstrong\")\n",
    "else : \n",
    "    print(\"Number is not armstrong\")\n"
   ]
  },
  {
   "cell_type": "code",
   "execution_count": 13,
   "metadata": {},
   "outputs": [
    {
     "name": "stdout",
     "output_type": "stream",
     "text": [
      "palindrome\n"
     ]
    }
   ],
   "source": [
    "n = int(input(\"ENter a number\"))\n",
    "a= n\n",
    "rev = 0\n",
    "while a>0:\n",
    "    s =a%10\n",
    "    rev = (rev*10) +s\n",
    "    a= a//10\n",
    "if rev == n:\n",
    "    print(\"palindrome\")\n",
    "else : \n",
    "    print(\"Not palindrome\")\n"
   ]
  },
  {
   "cell_type": "code",
   "execution_count": 16,
   "metadata": {},
   "outputs": [
    {
     "name": "stdout",
     "output_type": "stream",
     "text": [
      "not prime\n"
     ]
    }
   ],
   "source": [
    "n= int(input(\"ENter a number\"))\n",
    "f=0\n",
    "for i in range(2,n+1):\n",
    "    if n%i == 0:\n",
    "        f= f+1\n",
    "if f == 1 :\n",
    "    print(\"Prime\")\n",
    "else:\n",
    "    print(\"not prime\")\n"
   ]
  },
  {
   "cell_type": "code",
   "execution_count": 31,
   "metadata": {},
   "outputs": [
    {
     "name": "stdout",
     "output_type": "stream",
     "text": [
      "prime\n"
     ]
    }
   ],
   "source": [
    "n =int(input(\"Enter a number\"))\n",
    "c= 0\n",
    "i =1\n",
    "while i<=n:\n",
    "    if n%i ==0:\n",
    "        c +=1\n",
    "    i += 1\n",
    "if c ==2:\n",
    "    print(\"prime\")\n",
    "else:\n",
    "    print(\"not prime\")"
   ]
  },
  {
   "cell_type": "code",
   "execution_count": 36,
   "metadata": {},
   "outputs": [
    {
     "name": "stdout",
     "output_type": "stream",
     "text": [
      "* \t\n",
      "* * \t\n",
      "* * * \t\n",
      "* * * * \t\n",
      "* * * * * \t\n",
      "* * * * \t\n",
      "* * * \t\n",
      "* * \t\n",
      "* \t\n",
      "\t\n"
     ]
    }
   ],
   "source": [
    "rows = 5\n",
    "for i in range(0, rows):\n",
    "    for j in range(0, i + 1):\n",
    "        print(\"*\", end=' ')\n",
    "    print(\"\\t\")\n",
    "\n",
    "for i in range(rows, 0, -1):\n",
    "    for j in range(0, i - 1):\n",
    "        print(\"*\", end=' ')\n",
    "    print(\"\\t\")"
   ]
  },
  {
   "cell_type": "code",
   "execution_count": null,
   "metadata": {},
   "outputs": [],
   "source": [
    "s=2"
   ]
  },
  {
   "cell_type": "markdown",
   "metadata": {},
   "source": [
    "Decimal to binary :\n",
    "example - 35 - 100011"
   ]
  },
  {
   "cell_type": "code",
   "execution_count": 12,
   "metadata": {},
   "outputs": [
    {
     "name": "stdout",
     "output_type": "stream",
     "text": [
      "100\n"
     ]
    }
   ],
   "source": [
    "n = int(input(\"Enter a number\"))\n",
    "s= \"\"\n",
    "while n>0:\n",
    "    p = n%2\n",
    "    w = str(p)\n",
    "    s= s+w\n",
    "    n = n//2\n",
    "t = s[::-1]\n",
    "print(t)"
   ]
  },
  {
   "cell_type": "markdown",
   "metadata": {},
   "source": [
    "Binary  to decimal:\n",
    " - 100011- 35\n",
    " - 10100011 - 163"
   ]
  },
  {
   "cell_type": "code",
   "execution_count": 63,
   "metadata": {},
   "outputs": [
    {
     "name": "stdout",
     "output_type": "stream",
     "text": [
      "163\n"
     ]
    }
   ],
   "source": [
    "n = int(input(\"Enter a number\"))\n",
    "s = str(n)\n",
    "l = list(s)\n",
    "l.reverse()\n",
    "l2 = len(l)\n",
    "a = 0\n",
    "p = 0\n",
    "while n>0:\n",
    "     r = n%10\n",
    "     a = a+(r*(2**p))\n",
    "     p = p+1\n",
    "     n = n//10\n",
    "print(a)\n",
    "\n"
   ]
  },
  {
   "cell_type": "code",
   "execution_count": 30,
   "metadata": {},
   "outputs": [
    {
     "name": "stdout",
     "output_type": "stream",
     "text": [
      "1 2 3 4 5 \n",
      "1 2 3 4 \n",
      "1 2 3 \n",
      "1 2 \n",
      "1 \n",
      "\n"
     ]
    }
   ],
   "source": [
    "n=6\n",
    "for i in range(6,0,-1):\n",
    "    for j in range(1,i):\n",
    "        print(j,end = ' ')\n",
    "    print(\"\")"
   ]
  },
  {
   "cell_type": "code",
   "execution_count": 47,
   "metadata": {},
   "outputs": [
    {
     "name": "stdout",
     "output_type": "stream",
     "text": [
      "1 \n",
      "1 2 \n",
      "1 2 3 \n",
      "1 2 3 4 \n",
      "1 2 3 4 5 \n"
     ]
    }
   ],
   "source": [
    "for i in range(1,6):\n",
    "    for j in range(1,i+1):\n",
    "        print(j,end = ' ')\n",
    "    print(\"\")"
   ]
  },
  {
   "cell_type": "code",
   "execution_count": 53,
   "metadata": {},
   "outputs": [
    {
     "name": "stdout",
     "output_type": "stream",
     "text": [
      " \n",
      "1  \n",
      "2 3  \n",
      "4 5 6  \n",
      "7 8 9 10  \n",
      "11 12 13 14 15  \n",
      "16 17 18 19 20 21  \n",
      "22 23 24 25 26 27 28  \n"
     ]
    }
   ],
   "source": [
    "n =1 \n",
    "for i in range(1,9):\n",
    "    for j in range(1,i):\n",
    "        print(n,end=' ')\n",
    "        n +=1\n",
    "    print(\"\")"
   ]
  },
  {
   "cell_type": "code",
   "execution_count": 18,
   "metadata": {},
   "outputs": [
    {
     "name": "stdout",
     "output_type": "stream",
     "text": [
      "1 2 3 4 5  \n",
      "  2 3 4 5  \n",
      "    3 4 5  \n",
      "      4 5  \n",
      "        5  \n",
      "          "
     ]
    }
   ],
   "source": [
    "n=5\n",
    "for i in range(1,n+1):\n",
    "    for j in range(i,n+1):\n",
    "        print(j,end =' ')\n",
    "    print(\" \")\n",
    "    for k in range(1,i+1):\n",
    "        print(end='  ')\n"
   ]
  },
  {
   "cell_type": "code",
   "execution_count": 26,
   "metadata": {},
   "outputs": [
    {
     "name": "stdout",
     "output_type": "stream",
     "text": [
      "+ + + + +  \n",
      "  + + + +  \n",
      "    + + +  \n",
      "      + +  \n",
      "        +  \n",
      "          "
     ]
    }
   ],
   "source": [
    "n=5\n",
    "for i in range(1,n+1):\n",
    "    for j in range(i,n+1):\n",
    "        print('+',end =' ')\n",
    "    print(\" \")\n",
    "    for k in range(1,i+1):\n",
    "        print(end='  ')"
   ]
  }
 ],
 "metadata": {
  "kernelspec": {
   "display_name": "Python 3.10.7 64-bit",
   "language": "python",
   "name": "python3"
  },
  "language_info": {
   "codemirror_mode": {
    "name": "ipython",
    "version": 3
   },
   "file_extension": ".py",
   "mimetype": "text/x-python",
   "name": "python",
   "nbconvert_exporter": "python",
   "pygments_lexer": "ipython3",
   "version": "3.10.7"
  },
  "orig_nbformat": 4,
  "vscode": {
   "interpreter": {
    "hash": "3d716c3c393405563a96c8c345e572cb2e06660910c1ca0f6f18a4dc0e8e6125"
   }
  }
 },
 "nbformat": 4,
 "nbformat_minor": 2
}

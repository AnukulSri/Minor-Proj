{
 "cells": [
  {
   "cell_type": "code",
   "execution_count": 1,
   "metadata": {},
   "outputs": [
    {
     "name": "stdout",
     "output_type": "stream",
     "text": [
      "1\n",
      "2\n",
      "3\n",
      "4\n",
      "5\n",
      "6\n",
      "7\n",
      "8\n",
      "9\n"
     ]
    }
   ],
   "source": [
    "for i in range(1,10):\n",
    "    print(i)"
   ]
  },
  {
   "cell_type": "code",
   "execution_count": 3,
   "metadata": {},
   "outputs": [
    {
     "name": "stdout",
     "output_type": "stream",
     "text": [
      "2\n",
      "4\n",
      "6\n",
      "8\n",
      "10\n",
      "12\n",
      "14\n",
      "16\n",
      "18\n",
      "20\n"
     ]
    }
   ],
   "source": [
    "n= int(input(\"Enter a number\"))\n",
    "for i in range(1,11):\n",
    "    print(n*i)"
   ]
  },
  {
   "cell_type": "code",
   "execution_count": 4,
   "metadata": {},
   "outputs": [
    {
     "name": "stdout",
     "output_type": "stream",
     "text": [
      "24\n"
     ]
    }
   ],
   "source": [
    "n = int(input(\"Enter a number\"))\n",
    "f= 1\n",
    "for i in range (n,1,-1):\n",
    "    f =f*i\n",
    "print(f)"
   ]
  },
  {
   "cell_type": "code",
   "execution_count": 1,
   "metadata": {},
   "outputs": [
    {
     "name": "stdout",
     "output_type": "stream",
     "text": [
      "Access granted\n"
     ]
    }
   ],
   "source": [
    "pas = \"Anukul123\"\n",
    "user = input(\"Enter pass\")\n",
    "while pas != user :\n",
    "    user = input(\"Enter a pass\")\n",
    "else :\n",
    "    print(\"Access granted\")"
   ]
  },
  {
   "cell_type": "code",
   "execution_count": 8,
   "metadata": {},
   "outputs": [
    {
     "name": "stdout",
     "output_type": "stream",
     "text": [
      "Sum of digit is 6\n",
      "Sum of product is 6\n"
     ]
    }
   ],
   "source": [
    "n = int(input(\"Enter a digit\"))\n",
    "a= 0\n",
    "m=1\n",
    "while n>0:\n",
    "    s = n%10\n",
    "    a = a+s\n",
    "    m= m*s\n",
    "    n = n//10\n",
    "print(\"Sum of digit is\",a)\n",
    "print(\"Sum of product is\",m)\n",
    "\n"
   ]
  },
  {
   "cell_type": "code",
   "execution_count": 39,
   "metadata": {},
   "outputs": [
    {
     "name": "stdout",
     "output_type": "stream",
     "text": [
      "Number is Armstrong\n"
     ]
    }
   ],
   "source": [
    "n =int(input(\"Enter a number\"))\n",
    "a = n\n",
    "arm = 0\n",
    "cou = str(n)\n",
    "#print(type(cou))\n",
    "df = len(cou)\n",
    "#print(df)\n",
    "while a>0:\n",
    "    s = a%10\n",
    "    power = s**df\n",
    "    arm = arm + power\n",
    "    a = a//10\n",
    "if n == arm:\n",
    "    print(\"Number is Armstrong\")\n",
    "else : \n",
    "    print(\"Number is not armstrong\")\n"
   ]
  },
  {
   "cell_type": "code",
   "execution_count": 13,
   "metadata": {},
   "outputs": [
    {
     "name": "stdout",
     "output_type": "stream",
     "text": [
      "palindrome\n"
     ]
    }
   ],
   "source": [
    "n = int(input(\"ENter a number\"))\n",
    "a= n\n",
    "rev = 0\n",
    "while a>0:\n",
    "    s =a%10\n",
    "    rev = (rev*10) +s\n",
    "    a= a//10\n",
    "if rev == n:\n",
    "    print(\"palindrome\")\n",
    "else : \n",
    "    print(\"Not palindrome\")\n"
   ]
  },
  {
   "cell_type": "code",
   "execution_count": 16,
   "metadata": {},
   "outputs": [
    {
     "name": "stdout",
     "output_type": "stream",
     "text": [
      "not prime\n"
     ]
    }
   ],
   "source": [
    "n= int(input(\"ENter a number\"))\n",
    "f=0\n",
    "for i in range(2,n+1):\n",
    "    if n%i == 0:\n",
    "        f= f+1\n",
    "if f == 1 :\n",
    "    print(\"Prime\")\n",
    "else:\n",
    "    print(\"not prime\")\n"
   ]
  },
  {
   "cell_type": "code",
   "execution_count": 31,
   "metadata": {},
   "outputs": [
    {
     "name": "stdout",
     "output_type": "stream",
     "text": [
      "prime\n"
     ]
    }
   ],
   "source": [
    "n =int(input(\"Enter a number\"))\n",
    "c= 0\n",
    "i =1\n",
    "while i<=n:\n",
    "    if n%i ==0:\n",
    "        c +=1\n",
    "    i += 1\n",
    "if c ==2:\n",
    "    print(\"prime\")\n",
    "else:\n",
    "    print(\"not prime\")"
   ]
  },
  {
   "cell_type": "code",
   "execution_count": 36,
   "metadata": {},
   "outputs": [
    {
     "name": "stdout",
     "output_type": "stream",
     "text": [
      "* \t\n",
      "* * \t\n",
      "* * * \t\n",
      "* * * * \t\n",
      "* * * * * \t\n",
      "* * * * \t\n",
      "* * * \t\n",
      "* * \t\n",
      "* \t\n",
      "\t\n"
     ]
    }
   ],
   "source": [
    "rows = 5\n",
    "for i in range(0, rows):\n",
    "    for j in range(0, i + 1):\n",
    "        print(\"*\", end=' ')\n",
    "    print(\"\\t\")\n",
    "\n",
    "for i in range(rows, 0, -1):\n",
    "    for j in range(0, i - 1):\n",
    "        print(\"*\", end=' ')\n",
    "    print(\"\\t\")"
   ]
  },
  {
   "cell_type": "code",
   "execution_count": null,
   "metadata": {},
   "outputs": [],
   "source": [
    "s=2"
   ]
  },
  {
   "cell_type": "markdown",
   "metadata": {},
   "source": [
    "Decimal to binary :\n",
    "example - 35 - 100011"
   ]
  },
  {
   "cell_type": "code",
   "execution_count": 12,
   "metadata": {},
   "outputs": [
    {
     "name": "stdout",
     "output_type": "stream",
     "text": [
      "100\n"
     ]
    }
   ],
   "source": [
    "n = int(input(\"Enter a number\"))\n",
    "s= \"\"\n",
    "while n>0:\n",
    "    p = n%2\n",
    "    w = str(p)\n",
    "    s= s+w\n",
    "    n = n//2\n",
    "t = s[::-1]\n",
    "print(t)"
   ]
  },
  {
   "cell_type": "markdown",
   "metadata": {},
   "source": [
    "Binary  to decimal:\n",
    " - 100011- 35\n",
    " - 10100011 - 163"
   ]
  },
  {
   "cell_type": "code",
   "execution_count": 63,
   "metadata": {},
   "outputs": [
    {
     "name": "stdout",
     "output_type": "stream",
     "text": [
      "163\n"
     ]
    }
   ],
   "source": [
    "n = int(input(\"Enter a number\"))\n",
    "s = str(n)\n",
    "l = list(s)\n",
    "l.reverse()\n",
    "l2 = len(l)\n",
    "a = 0\n",
    "p = 0\n",
    "while n>0:\n",
    "     r = n%10\n",
    "     a = a+(r*(2**p))\n",
    "     p = p+1\n",
    "     n = n//10\n",
    "print(a)\n",
    "\n"
   ]
  },
  {
   "cell_type": "code",
   "execution_count": 30,
   "metadata": {},
   "outputs": [
    {
     "name": "stdout",
     "output_type": "stream",
     "text": [
      "1 2 3 4 5 \n",
      "1 2 3 4 \n",
      "1 2 3 \n",
      "1 2 \n",
      "1 \n",
      "\n"
     ]
    }
   ],
   "source": [
    "n=6\n",
    "for i in range(6,0,-1):\n",
    "    for j in range(1,i):\n",
    "        print(j,end = ' ')\n",
    "    print(\"\")"
   ]
  },
  {
   "cell_type": "code",
   "execution_count": 47,
   "metadata": {},
   "outputs": [
    {
     "name": "stdout",
     "output_type": "stream",
     "text": [
      "1 \n",
      "1 2 \n",
      "1 2 3 \n",
      "1 2 3 4 \n",
      "1 2 3 4 5 \n"
     ]
    }
   ],
   "source": [
    "for i in range(1,6):\n",
    "    for j in range(1,i+1):\n",
    "        print(j,end = ' ')\n",
    "    print(\"\")"
   ]
  },
  {
   "cell_type": "code",
   "execution_count": 53,
   "metadata": {},
   "outputs": [
    {
     "name": "stdout",
     "output_type": "stream",
     "text": [
      " \n",
      "1  \n",
      "2 3  \n",
      "4 5 6  \n",
      "7 8 9 10  \n",
      "11 12 13 14 15  \n",
      "16 17 18 19 20 21  \n",
      "22 23 24 25 26 27 28  \n"
     ]
    }
   ],
   "source": [
    "n =1 \n",
    "for i in range(1,9):\n",
    "    for j in range(1,i):\n",
    "        print(n,end=' ')\n",
    "        n +=1\n",
    "    print(\"\")"
   ]
  },
  {
   "cell_type": "code",
   "execution_count": 18,
   "metadata": {},
   "outputs": [
    {
     "name": "stdout",
     "output_type": "stream",
     "text": [
      "1 2 3 4 5  \n",
      "  2 3 4 5  \n",
      "    3 4 5  \n",
      "      4 5  \n",
      "        5  \n",
      "          "
     ]
    }
   ],
   "source": [
    "n=5\n",
    "for i in range(1,n+1):\n",
    "    for j in range(i,n+1):\n",
    "        print(j,end =' ')\n",
    "    print(\" \")\n",
    "    for k in range(1,i+1):\n",
    "        print(end='  ')\n"
   ]
  },
  {
   "cell_type": "code",
   "execution_count": 26,
   "metadata": {},
   "outputs": [
    {
     "name": "stdout",
     "output_type": "stream",
     "text": [
      "+ + + + +  \n",
      "  + + + +  \n",
      "    + + +  \n",
      "      + +  \n",
      "        +  \n",
      "          "
     ]
    }
   ],
   "source": [
    "n=5\n",
    "for i in range(1,n+1):\n",
    "    for j in range(i,n+1):\n",
    "        print('+',end =' ')\n",
    "    print(\" \")\n",
    "    for k in range(1,i+1):\n",
    "        print(end='  ')"
   ]
  },
  {
   "cell_type": "code",
   "execution_count": 4,
   "metadata": {},
   "outputs": [
    {
     "name": "stdout",
     "output_type": "stream",
     "text": [
      "5\n"
     ]
    },
    {
     "data": {
      "text/plain": [
       "1"
      ]
     },
     "execution_count": 4,
     "metadata": {},
     "output_type": "execute_result"
    }
   ],
   "source": [
    "arr = list(map(int, input().rstrip().split()))\n",
    "s =len(arr)\n",
    "print(s)\n",
    "min(arr)"
   ]
  },
  {
   "cell_type": "markdown",
   "metadata": {},
   "source": [
    "Given five positive integers, find the minimum and maximum values that can be calculated by summing exactly four of the five integers. Then print the respective minimum and maximum values as a single line of two space-separated long integers.\n",
    "\n",
    "input : 1 2 3 4 5\n",
    "Output : 10 14\n",
    "\n",
    "Explanation:\n",
    " The numbers are 1, 2, 3, 4, and 5. Calculate the following sums using four of the five integers:\n",
    "\n",
    "- Sum everything except 1, the sum is 2+3+4+5 = 14.\n",
    "- Sum everything except 2, the sum is 1+3+4+5 = 13.\n",
    "- Sum everything except 3, the sum is 1+2+4+5 = 12.\n",
    "- Sum everything except 4, the sum is 1+2+3+5 = 11.\n",
    "- Sum everything except 5, the sum is 1+2+3+4 = 10.\n",
    "\n"
   ]
  },
  {
   "cell_type": "code",
   "execution_count": 11,
   "metadata": {},
   "outputs": [
    {
     "name": "stdout",
     "output_type": "stream",
     "text": [
      "10 14\n"
     ]
    }
   ],
   "source": [
    "arr = list(map(int, input().rstrip().split()))\n",
    "s =len(arr)\n",
    "l = []\n",
    "for i in arr:\n",
    "    p =0 \n",
    "    for j in arr:\n",
    "        if j == i:\n",
    "            continue\n",
    "        else : \n",
    "            p = p+j\n",
    "    l.append(p)\n",
    "print(min(l),end = ' ')\n",
    "print(max(l))\n"
   ]
  },
  {
   "cell_type": "code",
   "execution_count": 5,
   "metadata": {},
   "outputs": [
    {
     "name": "stdout",
     "output_type": "stream",
     "text": [
      "0 0\n"
     ]
    }
   ],
   "source": [
    "def miniMaxSum(arr):\n",
    "    s =len(arr)\n",
    "    l = []\n",
    "    for i in arr:\n",
    "      p =0 \n",
    "      for j in arr:\n",
    "        if j == i:\n",
    "            continue\n",
    "        else : \n",
    "            p = p+j\n",
    "      l.append(p)\n",
    "    print(min(l),end = ' ')\n",
    "    print(max(l))\n",
    "\n",
    "if __name__ == '__main__':\n",
    "\n",
    "    arr = list(map(int, input().rstrip().split()))\n",
    "\n",
    "    miniMaxSum(arr)\n"
   ]
  }
 ],
 "metadata": {
  "kernelspec": {
   "display_name": "Python 3.9.12 ('base')",
   "language": "python",
   "name": "python3"
  },
  "language_info": {
   "codemirror_mode": {
    "name": "ipython",
    "version": 3
   },
   "file_extension": ".py",
   "mimetype": "text/x-python",
   "name": "python",
   "nbconvert_exporter": "python",
   "pygments_lexer": "ipython3",
   "version": "3.9.12"
  },
  "orig_nbformat": 4,
  "vscode": {
   "interpreter": {
    "hash": "4e8f3a7a02010f64316f648f42951c185bd81b36418d82413abe5bcaf48078d2"
   }
  }
 },
 "nbformat": 4,
 "nbformat_minor": 2
}

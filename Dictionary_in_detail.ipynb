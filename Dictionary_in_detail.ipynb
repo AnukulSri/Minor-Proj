{
 "cells": [
  {
   "cell_type": "code",
   "execution_count": 19,
   "metadata": {},
   "outputs": [
    {
     "name": "stdout",
     "output_type": "stream",
     "text": [
      "<class 'dict'>\n",
      "Anukul\n"
     ]
    }
   ],
   "source": [
    "var = {}\n",
    "print(type(var))\n",
    "var2 = {\n",
    "    \"Name\" : \"Anukul\",\n",
    "    \"Roll no.\" : 7,\n",
    "    \"Stream\" : \"BCA\"\n",
    "}\n",
    "a= var2['Name']\n",
    "print(a)"
   ]
  },
  {
   "cell_type": "code",
   "execution_count": 16,
   "metadata": {},
   "outputs": [
    {
     "name": "stdout",
     "output_type": "stream",
     "text": [
      "{1: 'Anukul', 2: 'Amit', 3: 'Sumit'}\n",
      "{2: 'Amit', 3: 'Sumit'}\n",
      "{}\n",
      "{3: 'Arpit'}\n"
     ]
    }
   ],
   "source": [
    "var=dict()\n",
    "var[1] = \"Anukul\"\n",
    "var[2] = \"Amit\"\n",
    "var[3] = \"Sumit\"\n",
    "print(var)\n",
    "var.pop(1)\n",
    "print(var)\n",
    "var.clear()\n",
    "print(var)\n",
    "var[3] =\"Arpit\"\n",
    "print(var)"
   ]
  },
  {
   "cell_type": "code",
   "execution_count": 20,
   "metadata": {},
   "outputs": [
    {
     "name": "stdout",
     "output_type": "stream",
     "text": [
      "{'name': 'Pratyush', 'roll': 12, 'per': 78, 'name2': 'Arpit'}\n"
     ]
    }
   ],
   "source": [
    "var = {\"name\":\"Anukul\",\"roll\":12,\"per\":78,\"name\":\"Pratyush\",\"name2\":\"Arpit\"}# we can't repeat the key value if we repeat then last occurence will be printed\n",
    "print(var)"
   ]
  },
  {
   "cell_type": "code",
   "execution_count": 28,
   "metadata": {},
   "outputs": [
    {
     "name": "stdout",
     "output_type": "stream",
     "text": [
      "Pratyush\n",
      "Arpit\n",
      "dict_keys(['name', 'roll', 'per'])\n",
      "dict_values(['Pratyush', 12, 78])\n",
      "dict_items([('name', 'Pratyush'), ('roll', 12), ('per', 78)])\n",
      "None\n",
      "{}\n"
     ]
    }
   ],
   "source": [
    "var = {\"name\":\"Anukul\",\"roll\":12,\"per\":78,\"name\":\"Pratyush\",\"name2\":\"Arpit\"}\n",
    "print(var.get(\"name\"))\n",
    "print(var.pop(\"name2\"))\n",
    "print(var.keys())\n",
    "print(var.values())\n",
    "print(var.items())\n",
    "print(var.clear())\n",
    "var.clear()\n",
    "print(var)"
   ]
  },
  {
   "cell_type": "code",
   "execution_count": 1,
   "metadata": {},
   "outputs": [
    {
     "name": "stdout",
     "output_type": "stream",
     "text": [
      "{'maths': 78, 'English': 76, 'Computer': 98}\n"
     ]
    }
   ],
   "source": [
    "dict = {\n",
    "    'stu1' : {'maths' : 76,'English':67,'Computer':89},\n",
    "    'stu2' : {'maths' : 78,'English':76,'Computer':98},\n",
    "    'stu3' : {'maths' : 79,'English':89,'Computer':79},\n",
    "    'stu4' : {'maths' : 80,'English':76,'Computer':80},\n",
    "    'stu5' : {'maths' : 78,'English':97,'Computer':86}\n",
    "}\n",
    "\n",
    "print(dict['stu2'])"
   ]
  }
 ],
 "metadata": {
  "kernelspec": {
   "display_name": "Python 3.10.7 64-bit",
   "language": "python",
   "name": "python3"
  },
  "language_info": {
   "codemirror_mode": {
    "name": "ipython",
    "version": 3
   },
   "file_extension": ".py",
   "mimetype": "text/x-python",
   "name": "python",
   "nbconvert_exporter": "python",
   "pygments_lexer": "ipython3",
   "version": "3.10.7"
  },
  "orig_nbformat": 4,
  "vscode": {
   "interpreter": {
    "hash": "3d716c3c393405563a96c8c345e572cb2e06660910c1ca0f6f18a4dc0e8e6125"
   }
  }
 },
 "nbformat": 4,
 "nbformat_minor": 2
}

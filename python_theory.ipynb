{
 "cells": [
  {
   "cell_type": "markdown",
   "metadata": {},
   "source": [
    "- python was developed by guido van rossum in 1991.\n",
    "- version - python 0.9.0\n",
    "- python 1.0\n",
    "- python 2.0\n",
    "- python 3.0\n",
    "\n",
    "- python name was based on a comedy show (Monty Python flying circus)"
   ]
  },
  {
   "cell_type": "markdown",
   "metadata": {},
   "source": [
    "- Difference b/w Python 2 & python 3\n",
    "- python 2 : \n",
    "- print \"Hello\"\n",
    "- raw_input()\n",
    "- string value counts in ascii code\n",
    "- xrange() is used in python2\n",
    "\n",
    "- Python 3:\n",
    "- print(\"\")\n",
    "- input()\n",
    "- string value counts in unicode\n",
    "- range() is used in python3\n"
   ]
  },
  {
   "cell_type": "markdown",
   "metadata": {},
   "source": [
    "- Why to use:\n",
    "\n",
    "- simple and easy to use\n",
    "- open source\n",
    "- platform independent\n",
    "- object based\n",
    "- gui\n",
    "- embedded\n",
    "\n",
    "- source code -> compiler -> intermediate code (.pyc file) -> interpreter -> .exefile "
   ]
  },
  {
   "cell_type": "markdown",
   "metadata": {},
   "source": [
    "- Where to use python\n",
    "\n",
    "- Desktop Application\n",
    "- Web application\n",
    "- Console Based application\n",
    "- mobile app\n",
    "- mathematical analysis\n",
    "- image processing\n",
    "- data mining\n",
    "- data rendring"
   ]
  },
  {
   "cell_type": "markdown",
   "metadata": {},
   "source": [
    "- framework in python \n",
    "\n",
    "- Web development - django,flask, pyramid ect.\n",
    "- GUI based application - TK,pyGTK etc.\n",
    "- Machine learing - scipy, matplotlib,scikit etc\n",
    "- Mathematical - numpy,pandas,plotly seaborn."
   ]
  },
  {
   "cell_type": "markdown",
   "metadata": {},
   "source": [
    "- How to use Python\n",
    "- Interactive Mode - programming using cmd\n",
    "- Scriptlet Mode - programming using IDE"
   ]
  },
  {
   "cell_type": "markdown",
   "metadata": {},
   "source": [
    "- Comments : # is used for comment\n",
    "- multiline comment is not supported in pyhton but we can use ''' sahhshbsd ''' as a comment\n",
    "this can't be considered as multiline because it act as string....."
   ]
  },
  {
   "cell_type": "markdown",
   "metadata": {},
   "source": [
    "Tokens in python:\n",
    "\n",
    "keyword\n",
    "identifier\n",
    "operators\n",
    "puntuactors\n",
    "literal"
   ]
  },
  {
   "cell_type": "markdown",
   "metadata": {},
   "source": [
    "_name = value  - it is a protected identifier\n",
    "__name = value - It is a "
   ]
  },
  {
   "cell_type": "markdown",
   "metadata": {},
   "source": [
    "Keyword - \n",
    "\n",
    "if, else,elif,break,finally,as ,lambda, class,True, False, None, assert, is , global,del,def,with, for, yield,import,while,enum,try,catch,"
   ]
  },
  {
   "cell_type": "markdown",
   "metadata": {},
   "source": [
    "variable - It is a container used to store a value."
   ]
  },
  {
   "cell_type": "markdown",
   "metadata": {},
   "source": [
    "type () - is used to identify the type of a variable\n",
    "id() - is used to identify the address of a variable"
   ]
  },
  {
   "cell_type": "markdown",
   "metadata": {},
   "source": [
    "In-built data types - \n",
    "\n",
    "Text type - string\n",
    "Numeric type - int float complex\n",
    "sequence type - list, tuple, range\n",
    "mapping type- dictionary\n",
    "set type- set frozenset\n",
    "boolean type - bool\n",
    "binary - bytearray, bytes\n",
    "None Type - None"
   ]
  },
  {
   "cell_type": "markdown",
   "metadata": {},
   "source": [
    "1 bit- \n",
    "1 nibble - 4 bit\n",
    "1 byte - 8 bit\n",
    "\n",
    "unsigned \n"
   ]
  },
  {
   "cell_type": "markdown",
   "metadata": {},
   "source": [
    "Operators in python - \n",
    "\n",
    "- Arithematic op (+,-,/,//,*,**)\n",
    "- assignment op (=)\n",
    "- relational op (>,>=,<,<=,==,!=)\n",
    "- logical op (and, or, not)\n",
    "- bitwise op\n",
    "- special op \n",
    " - identify op (is, is not)\n",
    " - membership op (in, not in)"
   ]
  },
  {
   "cell_type": "markdown",
   "metadata": {},
   "source": [
    "Bitwise op - \n",
    " - bitwise and (&) : 1 1 pe true else false\n",
    " - bitwise or (|) : 0 0 pe ture else false\n",
    " - bitwise XOR(^) : same same pe false else true\n",
    " - bitwise compliment (~) : 0 to 1 and vice versa\n",
    " - bitwise rightshift (>>) : \n",
    " - bitwise leftshift(<<)"
   ]
  },
  {
   "cell_type": "markdown",
   "metadata": {},
   "source": [
    "- Control Statement :\n",
    " - Selection statement : if , if-else, nested if-else, if-elif-else\n",
    " - Iterative/looping statement : for loop, while loop, foreach\n",
    " - jump statement : break, continue, pass\n"
   ]
  },
  {
   "cell_type": "markdown",
   "metadata": {},
   "source": [
    "SET - it is an unordered collection of items\n",
    "- in this indexing and slicing is not applicable\n",
    "- in this repitition is not allowed\n",
    "- multiple type of data can be stored"
   ]
  },
  {
   "cell_type": "markdown",
   "metadata": {},
   "source": [
    "List - It is an ordered collection of data\n",
    " - in this similar or different type of data can be stored\n",
    " - It is mutable\n",
    " - indexing an slicing is applicable"
   ]
  },
  {
   "cell_type": "markdown",
   "metadata": {},
   "source": [
    "tuple - It is a type of data str.\n",
    "- it is ordered collection of item\n",
    "- store similar as well as different type of data\n",
    "- it is immutable\n",
    "- indexing and slicing is applicable"
   ]
  },
  {
   "cell_type": "markdown",
   "metadata": {},
   "source": [
    "Dictionary - It is also a data str.\n",
    "- in this data is stores in the form of key and value\n",
    "- it is mutable\n",
    "-  created by dict keyword or {}"
   ]
  },
  {
   "cell_type": "markdown",
   "metadata": {},
   "source": [
    "Function : function is block of code which is enclosed within a body to perform a task repeatidly.\n",
    " \n",
    " there are two type of a function : \n",
    " - Pre-defined func.\n",
    " - user defiened function.\n",
    "\n",
    "pre defined  - print,copy,len,type etc.\n",
    "user defined  - the function which user creates according to his need.\n",
    "\n",
    "Ways to create a function:\n",
    "\n",
    "- func with no return with no argument\n",
    "- func with no return with argument\n",
    "- func with return with no argument\n",
    "- func with retutn and with argument"
   ]
  },
  {
   "cell_type": "markdown",
   "metadata": {},
   "source": [
    "types of arguments:\n",
    "- positional argument\n",
    "- keyword argument\n",
    "- Default \n",
    "- Variable length"
   ]
  },
  {
   "cell_type": "markdown",
   "metadata": {},
   "source": [
    "Lambda function : It is a single line function.\n",
    "syntax :  lambda argument: process\n",
    "\n",
    "to call lambda function we have pass it into a variable and then print that variable\n",
    "Example : a= lambda x: x+10\n",
    "          print(a(5))"
   ]
  },
  {
   "cell_type": "markdown",
   "metadata": {},
   "source": [
    "Modules : It is a collection of pre-defined files, function and classes\n",
    "types of modules : pre-defined module and user defined"
   ]
  }
 ],
 "metadata": {
  "kernelspec": {
   "display_name": "Python 3.10.7 64-bit",
   "language": "python",
   "name": "python3"
  },
  "language_info": {
   "name": "python",
   "version": "3.10.7"
  },
  "orig_nbformat": 4,
  "vscode": {
   "interpreter": {
    "hash": "3d716c3c393405563a96c8c345e572cb2e06660910c1ca0f6f18a4dc0e8e6125"
   }
  }
 },
 "nbformat": 4,
 "nbformat_minor": 2
}
